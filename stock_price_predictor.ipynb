{
  "nbformat": 4,
  "nbformat_minor": 0,
  "metadata": {
    "colab": {
      "provenance": [],
      "collapsed_sections": []
    },
    "kernelspec": {
      "name": "python3",
      "display_name": "Python 3"
    },
    "language_info": {
      "name": "python"
    }
  },
  "cells": [
    {
      "cell_type": "code",
      "source": [
        "# Create a stock price predictor - using the ‘yfinance’ library as data source - for MSFT’s share price (Microsoft). \n",
        "# The tool will be measured on its prediction accuracy (the test set should comprise of data post 2018). \n",
        "# Also, which other U.S. tech stock is MSFT most correlated to?"
      ],
      "metadata": {
        "id": "zVJ3UotniD1V"
      },
      "execution_count": null,
      "outputs": []
    },
    {
      "cell_type": "code",
      "source": [
        "# The problem is to predict the stock price of msft shares given the data of the older days."
      ],
      "metadata": {
        "id": "jzxACqF2sH2Y"
      },
      "execution_count": null,
      "outputs": []
    },
    {
      "cell_type": "code",
      "execution_count": null,
      "metadata": {
        "id": "XsbK5wj4cWby",
        "colab": {
          "base_uri": "https://localhost:8080/"
        },
        "outputId": "1311162e-36ac-49e6-dedc-bdfa158cd11a"
      },
      "outputs": [
        {
          "output_type": "stream",
          "name": "stdout",
          "text": [
            "Looking in indexes: https://pypi.org/simple, https://us-python.pkg.dev/colab-wheels/public/simple/\n",
            "Requirement already satisfied: yfinance in /usr/local/lib/python3.7/dist-packages (0.1.74)\n",
            "Requirement already satisfied: multitasking>=0.0.7 in /usr/local/lib/python3.7/dist-packages (from yfinance) (0.0.11)\n",
            "Requirement already satisfied: numpy>=1.15 in /usr/local/lib/python3.7/dist-packages (from yfinance) (1.21.6)\n",
            "Requirement already satisfied: pandas>=0.24.0 in /usr/local/lib/python3.7/dist-packages (from yfinance) (1.3.5)\n",
            "Requirement already satisfied: requests>=2.26 in /usr/local/lib/python3.7/dist-packages (from yfinance) (2.28.1)\n",
            "Requirement already satisfied: lxml>=4.5.1 in /usr/local/lib/python3.7/dist-packages (from yfinance) (4.9.1)\n",
            "Requirement already satisfied: pytz>=2017.3 in /usr/local/lib/python3.7/dist-packages (from pandas>=0.24.0->yfinance) (2022.2.1)\n",
            "Requirement already satisfied: python-dateutil>=2.7.3 in /usr/local/lib/python3.7/dist-packages (from pandas>=0.24.0->yfinance) (2.8.2)\n",
            "Requirement already satisfied: six>=1.5 in /usr/local/lib/python3.7/dist-packages (from python-dateutil>=2.7.3->pandas>=0.24.0->yfinance) (1.15.0)\n",
            "Requirement already satisfied: charset-normalizer<3,>=2 in /usr/local/lib/python3.7/dist-packages (from requests>=2.26->yfinance) (2.1.1)\n",
            "Requirement already satisfied: idna<4,>=2.5 in /usr/local/lib/python3.7/dist-packages (from requests>=2.26->yfinance) (2.10)\n",
            "Requirement already satisfied: urllib3<1.27,>=1.21.1 in /usr/local/lib/python3.7/dist-packages (from requests>=2.26->yfinance) (1.24.3)\n",
            "Requirement already satisfied: certifi>=2017.4.17 in /usr/local/lib/python3.7/dist-packages (from requests>=2.26->yfinance) (2022.6.15)\n"
          ]
        }
      ],
      "source": [
        "pip install yfinance"
      ]
    },
    {
      "cell_type": "markdown",
      "source": [
        "# Import statements"
      ],
      "metadata": {
        "id": "EK21yfvY1cch"
      }
    },
    {
      "cell_type": "code",
      "source": [
        "import yfinance as yf\n",
        "import math\n",
        "import numpy as np\n",
        "import pandas as pd\n",
        "import warnings\n",
        "import seaborn as sns\n",
        "import matplotlib.pyplot as plt\n",
        "import matplotlib.dates as mdates\n",
        "warnings.filterwarnings(\"ignore\")"
      ],
      "metadata": {
        "id": "1D76hdCOdYWX"
      },
      "execution_count": null,
      "outputs": []
    },
    {
      "cell_type": "markdown",
      "source": [
        "# Data download"
      ],
      "metadata": {
        "id": "V0ZNcaC01exY"
      }
    },
    {
      "cell_type": "code",
      "source": [
        "# 13 years of data for model training \n",
        "train_df = yf.download('MSFT',start='2005-01-01',end='2017-12-31',progress=False)\n",
        "train_df.shape"
      ],
      "metadata": {
        "colab": {
          "base_uri": "https://localhost:8080/"
        },
        "id": "UO1F1xWbdlgR",
        "outputId": "954dc6c5-89d0-4a88-f7bf-0bdb8cd92393"
      },
      "execution_count": null,
      "outputs": [
        {
          "output_type": "execute_result",
          "data": {
            "text/plain": [
              "(3272, 6)"
            ]
          },
          "metadata": {},
          "execution_count": 4
        }
      ]
    },
    {
      "cell_type": "code",
      "source": [
        "#3 years of data for testing and validation on unseen data.\n",
        "test_df = yf.download('MSFT',start='2018-01-01',end='2020-12-31',progress=False)\n",
        "test_df.shape"
      ],
      "metadata": {
        "colab": {
          "base_uri": "https://localhost:8080/"
        },
        "id": "bZcIdN9_f7tF",
        "outputId": "2a6c503f-0d92-4899-dc62-7eb49a75e127"
      },
      "execution_count": null,
      "outputs": [
        {
          "output_type": "execute_result",
          "data": {
            "text/plain": [
              "(755, 6)"
            ]
          },
          "metadata": {},
          "execution_count": 5
        }
      ]
    },
    {
      "cell_type": "markdown",
      "source": [
        "# Data exploration and checking for missing values"
      ],
      "metadata": {
        "id": "OCoYSXCh1VUi"
      }
    },
    {
      "cell_type": "code",
      "source": [
        "# Explore the given dataset by looking at the initial few instances. There are 6 cols namely Open,high,low,close,adj close,volume. \n",
        "# Volume -  Tells us the total number of shares of msft that were bought or sold on that particular day\n",
        "train_df.head()"
      ],
      "metadata": {
        "colab": {
          "base_uri": "https://localhost:8080/",
          "height": 237
        },
        "id": "KHqhGPRFehEu",
        "outputId": "edf67f4b-6e35-4348-c857-0e1a49206a76"
      },
      "execution_count": null,
      "outputs": [
        {
          "output_type": "execute_result",
          "data": {
            "text/plain": [
              "                 Open       High        Low      Close  Adj Close     Volume\n",
              "Date                                                                        \n",
              "2005-01-03  26.799999  26.950001  26.650000  26.740000  18.913971   65002900\n",
              "2005-01-04  26.870001  27.100000  26.660000  26.840000  18.984703  109442100\n",
              "2005-01-05  26.840000  27.100000  26.760000  26.780001  18.942266   72463500\n",
              "2005-01-06  26.850000  27.059999  26.639999  26.750000  18.921051   76890500\n",
              "2005-01-07  26.820000  26.889999  26.620001  26.670000  18.864464   68723300"
            ],
            "text/html": [
              "\n",
              "  <div id=\"df-82612076-aee9-4786-85b4-80fa07bb267f\">\n",
              "    <div class=\"colab-df-container\">\n",
              "      <div>\n",
              "<style scoped>\n",
              "    .dataframe tbody tr th:only-of-type {\n",
              "        vertical-align: middle;\n",
              "    }\n",
              "\n",
              "    .dataframe tbody tr th {\n",
              "        vertical-align: top;\n",
              "    }\n",
              "\n",
              "    .dataframe thead th {\n",
              "        text-align: right;\n",
              "    }\n",
              "</style>\n",
              "<table border=\"1\" class=\"dataframe\">\n",
              "  <thead>\n",
              "    <tr style=\"text-align: right;\">\n",
              "      <th></th>\n",
              "      <th>Open</th>\n",
              "      <th>High</th>\n",
              "      <th>Low</th>\n",
              "      <th>Close</th>\n",
              "      <th>Adj Close</th>\n",
              "      <th>Volume</th>\n",
              "    </tr>\n",
              "    <tr>\n",
              "      <th>Date</th>\n",
              "      <th></th>\n",
              "      <th></th>\n",
              "      <th></th>\n",
              "      <th></th>\n",
              "      <th></th>\n",
              "      <th></th>\n",
              "    </tr>\n",
              "  </thead>\n",
              "  <tbody>\n",
              "    <tr>\n",
              "      <th>2005-01-03</th>\n",
              "      <td>26.799999</td>\n",
              "      <td>26.950001</td>\n",
              "      <td>26.650000</td>\n",
              "      <td>26.740000</td>\n",
              "      <td>18.913971</td>\n",
              "      <td>65002900</td>\n",
              "    </tr>\n",
              "    <tr>\n",
              "      <th>2005-01-04</th>\n",
              "      <td>26.870001</td>\n",
              "      <td>27.100000</td>\n",
              "      <td>26.660000</td>\n",
              "      <td>26.840000</td>\n",
              "      <td>18.984703</td>\n",
              "      <td>109442100</td>\n",
              "    </tr>\n",
              "    <tr>\n",
              "      <th>2005-01-05</th>\n",
              "      <td>26.840000</td>\n",
              "      <td>27.100000</td>\n",
              "      <td>26.760000</td>\n",
              "      <td>26.780001</td>\n",
              "      <td>18.942266</td>\n",
              "      <td>72463500</td>\n",
              "    </tr>\n",
              "    <tr>\n",
              "      <th>2005-01-06</th>\n",
              "      <td>26.850000</td>\n",
              "      <td>27.059999</td>\n",
              "      <td>26.639999</td>\n",
              "      <td>26.750000</td>\n",
              "      <td>18.921051</td>\n",
              "      <td>76890500</td>\n",
              "    </tr>\n",
              "    <tr>\n",
              "      <th>2005-01-07</th>\n",
              "      <td>26.820000</td>\n",
              "      <td>26.889999</td>\n",
              "      <td>26.620001</td>\n",
              "      <td>26.670000</td>\n",
              "      <td>18.864464</td>\n",
              "      <td>68723300</td>\n",
              "    </tr>\n",
              "  </tbody>\n",
              "</table>\n",
              "</div>\n",
              "      <button class=\"colab-df-convert\" onclick=\"convertToInteractive('df-82612076-aee9-4786-85b4-80fa07bb267f')\"\n",
              "              title=\"Convert this dataframe to an interactive table.\"\n",
              "              style=\"display:none;\">\n",
              "        \n",
              "  <svg xmlns=\"http://www.w3.org/2000/svg\" height=\"24px\"viewBox=\"0 0 24 24\"\n",
              "       width=\"24px\">\n",
              "    <path d=\"M0 0h24v24H0V0z\" fill=\"none\"/>\n",
              "    <path d=\"M18.56 5.44l.94 2.06.94-2.06 2.06-.94-2.06-.94-.94-2.06-.94 2.06-2.06.94zm-11 1L8.5 8.5l.94-2.06 2.06-.94-2.06-.94L8.5 2.5l-.94 2.06-2.06.94zm10 10l.94 2.06.94-2.06 2.06-.94-2.06-.94-.94-2.06-.94 2.06-2.06.94z\"/><path d=\"M17.41 7.96l-1.37-1.37c-.4-.4-.92-.59-1.43-.59-.52 0-1.04.2-1.43.59L10.3 9.45l-7.72 7.72c-.78.78-.78 2.05 0 2.83L4 21.41c.39.39.9.59 1.41.59.51 0 1.02-.2 1.41-.59l7.78-7.78 2.81-2.81c.8-.78.8-2.07 0-2.86zM5.41 20L4 18.59l7.72-7.72 1.47 1.35L5.41 20z\"/>\n",
              "  </svg>\n",
              "      </button>\n",
              "      \n",
              "  <style>\n",
              "    .colab-df-container {\n",
              "      display:flex;\n",
              "      flex-wrap:wrap;\n",
              "      gap: 12px;\n",
              "    }\n",
              "\n",
              "    .colab-df-convert {\n",
              "      background-color: #E8F0FE;\n",
              "      border: none;\n",
              "      border-radius: 50%;\n",
              "      cursor: pointer;\n",
              "      display: none;\n",
              "      fill: #1967D2;\n",
              "      height: 32px;\n",
              "      padding: 0 0 0 0;\n",
              "      width: 32px;\n",
              "    }\n",
              "\n",
              "    .colab-df-convert:hover {\n",
              "      background-color: #E2EBFA;\n",
              "      box-shadow: 0px 1px 2px rgba(60, 64, 67, 0.3), 0px 1px 3px 1px rgba(60, 64, 67, 0.15);\n",
              "      fill: #174EA6;\n",
              "    }\n",
              "\n",
              "    [theme=dark] .colab-df-convert {\n",
              "      background-color: #3B4455;\n",
              "      fill: #D2E3FC;\n",
              "    }\n",
              "\n",
              "    [theme=dark] .colab-df-convert:hover {\n",
              "      background-color: #434B5C;\n",
              "      box-shadow: 0px 1px 3px 1px rgba(0, 0, 0, 0.15);\n",
              "      filter: drop-shadow(0px 1px 2px rgba(0, 0, 0, 0.3));\n",
              "      fill: #FFFFFF;\n",
              "    }\n",
              "  </style>\n",
              "\n",
              "      <script>\n",
              "        const buttonEl =\n",
              "          document.querySelector('#df-82612076-aee9-4786-85b4-80fa07bb267f button.colab-df-convert');\n",
              "        buttonEl.style.display =\n",
              "          google.colab.kernel.accessAllowed ? 'block' : 'none';\n",
              "\n",
              "        async function convertToInteractive(key) {\n",
              "          const element = document.querySelector('#df-82612076-aee9-4786-85b4-80fa07bb267f');\n",
              "          const dataTable =\n",
              "            await google.colab.kernel.invokeFunction('convertToInteractive',\n",
              "                                                     [key], {});\n",
              "          if (!dataTable) return;\n",
              "\n",
              "          const docLinkHtml = 'Like what you see? Visit the ' +\n",
              "            '<a target=\"_blank\" href=https://colab.research.google.com/notebooks/data_table.ipynb>data table notebook</a>'\n",
              "            + ' to learn more about interactive tables.';\n",
              "          element.innerHTML = '';\n",
              "          dataTable['output_type'] = 'display_data';\n",
              "          await google.colab.output.renderOutput(dataTable, element);\n",
              "          const docLink = document.createElement('div');\n",
              "          docLink.innerHTML = docLinkHtml;\n",
              "          element.appendChild(docLink);\n",
              "        }\n",
              "      </script>\n",
              "    </div>\n",
              "  </div>\n",
              "  "
            ]
          },
          "metadata": {},
          "execution_count": 6
        }
      ]
    },
    {
      "cell_type": "code",
      "source": [
        "# we also see that all columns except volume have the float datatype whereas volume is int. \n",
        "train_df.info()"
      ],
      "metadata": {
        "colab": {
          "base_uri": "https://localhost:8080/"
        },
        "id": "UPIRcWGDfkbJ",
        "outputId": "a59666f5-7233-4481-c6b8-13bb22542c9f"
      },
      "execution_count": null,
      "outputs": [
        {
          "output_type": "stream",
          "name": "stdout",
          "text": [
            "<class 'pandas.core.frame.DataFrame'>\n",
            "DatetimeIndex: 3272 entries, 2005-01-03 to 2017-12-29\n",
            "Data columns (total 6 columns):\n",
            " #   Column     Non-Null Count  Dtype  \n",
            "---  ------     --------------  -----  \n",
            " 0   Open       3272 non-null   float64\n",
            " 1   High       3272 non-null   float64\n",
            " 2   Low        3272 non-null   float64\n",
            " 3   Close      3272 non-null   float64\n",
            " 4   Adj Close  3272 non-null   float64\n",
            " 5   Volume     3272 non-null   int64  \n",
            "dtypes: float64(5), int64(1)\n",
            "memory usage: 178.9 KB\n"
          ]
        }
      ]
    },
    {
      "cell_type": "code",
      "source": [
        "train_df.isna().sum()"
      ],
      "metadata": {
        "colab": {
          "base_uri": "https://localhost:8080/"
        },
        "id": "z2piehMBeXkF",
        "outputId": "ad305582-0112-473d-ca31-36a90f40d36c"
      },
      "execution_count": null,
      "outputs": [
        {
          "output_type": "execute_result",
          "data": {
            "text/plain": [
              "Open         0\n",
              "High         0\n",
              "Low          0\n",
              "Close        0\n",
              "Adj Close    0\n",
              "Volume       0\n",
              "dtype: int64"
            ]
          },
          "metadata": {},
          "execution_count": 8
        }
      ]
    },
    {
      "cell_type": "code",
      "source": [
        "# we use the describe method to see the range of values that go for each col.\n",
        "train_df.describe()"
      ],
      "metadata": {
        "colab": {
          "base_uri": "https://localhost:8080/",
          "height": 300
        },
        "id": "gKNZ4TJdtjLR",
        "outputId": "be54ab1e-1680-480e-e343-1c02efa7e730"
      },
      "execution_count": null,
      "outputs": [
        {
          "output_type": "execute_result",
          "data": {
            "text/plain": [
              "              Open         High          Low        Close    Adj Close  \\\n",
              "count  3272.000000  3272.000000  3272.000000  3272.000000  3272.000000   \n",
              "mean     35.677124    35.997170    35.366653    35.691715    29.687203   \n",
              "std      14.389426    14.451545    14.319908    14.400468    14.937945   \n",
              "min      15.200000    15.620000    14.870000    15.150000    11.437002   \n",
              "25%      26.207500    26.487500    25.957500    26.207500    19.731844   \n",
              "50%      29.485000    29.740000    29.170000    29.469999    22.570160   \n",
              "75%      42.955001    43.242501    42.612499    43.062501    37.728510   \n",
              "max      87.120003    87.500000    86.230003    86.849998    82.018440   \n",
              "\n",
              "             Volume  \n",
              "count  3.272000e+03  \n",
              "mean   5.276291e+07  \n",
              "std    3.067761e+07  \n",
              "min    7.425600e+06  \n",
              "25%    3.257308e+07  \n",
              "50%    4.791400e+07  \n",
              "75%    6.471538e+07  \n",
              "max    5.910522e+08  "
            ],
            "text/html": [
              "\n",
              "  <div id=\"df-463cb250-482a-4f69-b9bc-8f00412f1569\">\n",
              "    <div class=\"colab-df-container\">\n",
              "      <div>\n",
              "<style scoped>\n",
              "    .dataframe tbody tr th:only-of-type {\n",
              "        vertical-align: middle;\n",
              "    }\n",
              "\n",
              "    .dataframe tbody tr th {\n",
              "        vertical-align: top;\n",
              "    }\n",
              "\n",
              "    .dataframe thead th {\n",
              "        text-align: right;\n",
              "    }\n",
              "</style>\n",
              "<table border=\"1\" class=\"dataframe\">\n",
              "  <thead>\n",
              "    <tr style=\"text-align: right;\">\n",
              "      <th></th>\n",
              "      <th>Open</th>\n",
              "      <th>High</th>\n",
              "      <th>Low</th>\n",
              "      <th>Close</th>\n",
              "      <th>Adj Close</th>\n",
              "      <th>Volume</th>\n",
              "    </tr>\n",
              "  </thead>\n",
              "  <tbody>\n",
              "    <tr>\n",
              "      <th>count</th>\n",
              "      <td>3272.000000</td>\n",
              "      <td>3272.000000</td>\n",
              "      <td>3272.000000</td>\n",
              "      <td>3272.000000</td>\n",
              "      <td>3272.000000</td>\n",
              "      <td>3.272000e+03</td>\n",
              "    </tr>\n",
              "    <tr>\n",
              "      <th>mean</th>\n",
              "      <td>35.677124</td>\n",
              "      <td>35.997170</td>\n",
              "      <td>35.366653</td>\n",
              "      <td>35.691715</td>\n",
              "      <td>29.687203</td>\n",
              "      <td>5.276291e+07</td>\n",
              "    </tr>\n",
              "    <tr>\n",
              "      <th>std</th>\n",
              "      <td>14.389426</td>\n",
              "      <td>14.451545</td>\n",
              "      <td>14.319908</td>\n",
              "      <td>14.400468</td>\n",
              "      <td>14.937945</td>\n",
              "      <td>3.067761e+07</td>\n",
              "    </tr>\n",
              "    <tr>\n",
              "      <th>min</th>\n",
              "      <td>15.200000</td>\n",
              "      <td>15.620000</td>\n",
              "      <td>14.870000</td>\n",
              "      <td>15.150000</td>\n",
              "      <td>11.437002</td>\n",
              "      <td>7.425600e+06</td>\n",
              "    </tr>\n",
              "    <tr>\n",
              "      <th>25%</th>\n",
              "      <td>26.207500</td>\n",
              "      <td>26.487500</td>\n",
              "      <td>25.957500</td>\n",
              "      <td>26.207500</td>\n",
              "      <td>19.731844</td>\n",
              "      <td>3.257308e+07</td>\n",
              "    </tr>\n",
              "    <tr>\n",
              "      <th>50%</th>\n",
              "      <td>29.485000</td>\n",
              "      <td>29.740000</td>\n",
              "      <td>29.170000</td>\n",
              "      <td>29.469999</td>\n",
              "      <td>22.570160</td>\n",
              "      <td>4.791400e+07</td>\n",
              "    </tr>\n",
              "    <tr>\n",
              "      <th>75%</th>\n",
              "      <td>42.955001</td>\n",
              "      <td>43.242501</td>\n",
              "      <td>42.612499</td>\n",
              "      <td>43.062501</td>\n",
              "      <td>37.728510</td>\n",
              "      <td>6.471538e+07</td>\n",
              "    </tr>\n",
              "    <tr>\n",
              "      <th>max</th>\n",
              "      <td>87.120003</td>\n",
              "      <td>87.500000</td>\n",
              "      <td>86.230003</td>\n",
              "      <td>86.849998</td>\n",
              "      <td>82.018440</td>\n",
              "      <td>5.910522e+08</td>\n",
              "    </tr>\n",
              "  </tbody>\n",
              "</table>\n",
              "</div>\n",
              "      <button class=\"colab-df-convert\" onclick=\"convertToInteractive('df-463cb250-482a-4f69-b9bc-8f00412f1569')\"\n",
              "              title=\"Convert this dataframe to an interactive table.\"\n",
              "              style=\"display:none;\">\n",
              "        \n",
              "  <svg xmlns=\"http://www.w3.org/2000/svg\" height=\"24px\"viewBox=\"0 0 24 24\"\n",
              "       width=\"24px\">\n",
              "    <path d=\"M0 0h24v24H0V0z\" fill=\"none\"/>\n",
              "    <path d=\"M18.56 5.44l.94 2.06.94-2.06 2.06-.94-2.06-.94-.94-2.06-.94 2.06-2.06.94zm-11 1L8.5 8.5l.94-2.06 2.06-.94-2.06-.94L8.5 2.5l-.94 2.06-2.06.94zm10 10l.94 2.06.94-2.06 2.06-.94-2.06-.94-.94-2.06-.94 2.06-2.06.94z\"/><path d=\"M17.41 7.96l-1.37-1.37c-.4-.4-.92-.59-1.43-.59-.52 0-1.04.2-1.43.59L10.3 9.45l-7.72 7.72c-.78.78-.78 2.05 0 2.83L4 21.41c.39.39.9.59 1.41.59.51 0 1.02-.2 1.41-.59l7.78-7.78 2.81-2.81c.8-.78.8-2.07 0-2.86zM5.41 20L4 18.59l7.72-7.72 1.47 1.35L5.41 20z\"/>\n",
              "  </svg>\n",
              "      </button>\n",
              "      \n",
              "  <style>\n",
              "    .colab-df-container {\n",
              "      display:flex;\n",
              "      flex-wrap:wrap;\n",
              "      gap: 12px;\n",
              "    }\n",
              "\n",
              "    .colab-df-convert {\n",
              "      background-color: #E8F0FE;\n",
              "      border: none;\n",
              "      border-radius: 50%;\n",
              "      cursor: pointer;\n",
              "      display: none;\n",
              "      fill: #1967D2;\n",
              "      height: 32px;\n",
              "      padding: 0 0 0 0;\n",
              "      width: 32px;\n",
              "    }\n",
              "\n",
              "    .colab-df-convert:hover {\n",
              "      background-color: #E2EBFA;\n",
              "      box-shadow: 0px 1px 2px rgba(60, 64, 67, 0.3), 0px 1px 3px 1px rgba(60, 64, 67, 0.15);\n",
              "      fill: #174EA6;\n",
              "    }\n",
              "\n",
              "    [theme=dark] .colab-df-convert {\n",
              "      background-color: #3B4455;\n",
              "      fill: #D2E3FC;\n",
              "    }\n",
              "\n",
              "    [theme=dark] .colab-df-convert:hover {\n",
              "      background-color: #434B5C;\n",
              "      box-shadow: 0px 1px 3px 1px rgba(0, 0, 0, 0.15);\n",
              "      filter: drop-shadow(0px 1px 2px rgba(0, 0, 0, 0.3));\n",
              "      fill: #FFFFFF;\n",
              "    }\n",
              "  </style>\n",
              "\n",
              "      <script>\n",
              "        const buttonEl =\n",
              "          document.querySelector('#df-463cb250-482a-4f69-b9bc-8f00412f1569 button.colab-df-convert');\n",
              "        buttonEl.style.display =\n",
              "          google.colab.kernel.accessAllowed ? 'block' : 'none';\n",
              "\n",
              "        async function convertToInteractive(key) {\n",
              "          const element = document.querySelector('#df-463cb250-482a-4f69-b9bc-8f00412f1569');\n",
              "          const dataTable =\n",
              "            await google.colab.kernel.invokeFunction('convertToInteractive',\n",
              "                                                     [key], {});\n",
              "          if (!dataTable) return;\n",
              "\n",
              "          const docLinkHtml = 'Like what you see? Visit the ' +\n",
              "            '<a target=\"_blank\" href=https://colab.research.google.com/notebooks/data_table.ipynb>data table notebook</a>'\n",
              "            + ' to learn more about interactive tables.';\n",
              "          element.innerHTML = '';\n",
              "          dataTable['output_type'] = 'display_data';\n",
              "          await google.colab.output.renderOutput(dataTable, element);\n",
              "          const docLink = document.createElement('div');\n",
              "          docLink.innerHTML = docLinkHtml;\n",
              "          element.appendChild(docLink);\n",
              "        }\n",
              "      </script>\n",
              "    </div>\n",
              "  </div>\n",
              "  "
            ]
          },
          "metadata": {},
          "execution_count": 9
        }
      ]
    },
    {
      "cell_type": "code",
      "source": [
        "cormap = train_df.corr()\n",
        "fig, ax = plt.subplots(figsize=(5,5))\n",
        "sns.heatmap(cormap, annot = True)"
      ],
      "metadata": {
        "colab": {
          "base_uri": "https://localhost:8080/",
          "height": 377
        },
        "id": "leklLQ5F1pjh",
        "outputId": "fa9743d0-c920-46e5-ab55-12f3efb61cc3"
      },
      "execution_count": null,
      "outputs": [
        {
          "output_type": "execute_result",
          "data": {
            "text/plain": [
              "<matplotlib.axes._subplots.AxesSubplot at 0x7fadbc15d510>"
            ]
          },
          "metadata": {},
          "execution_count": 10
        },
        {
          "output_type": "display_data",
          "data": {
            "text/plain": [
              "<Figure size 360x360 with 2 Axes>"
            ],
            "image/png": "[encoded data removed]"
          },
          "metadata": {
            "needs_background": "light"
          }
        }
      ]
    },
    {
      "cell_type": "markdown",
      "source": [
        "All features except volume are highly co-related. Thus, using only one of them - Open price for predictions"
      ],
      "metadata": {
        "id": "X444sr-qQO6p"
      }
    },
    {
      "cell_type": "markdown",
      "source": [
        "# Data visualisation\n",
        "\n"
      ],
      "metadata": {
        "id": "x6ffocfq1Ju5"
      }
    },
    {
      "cell_type": "code",
      "source": [
        "plt.figure(figsize=(16,8))\n",
        "plt.plot(train_df[\"Open\"],label='Open Price history')"
      ],
      "metadata": {
        "colab": {
          "base_uri": "https://localhost:8080/",
          "height": 500
        },
        "id": "_yB8D1k-tphD",
        "outputId": "680b6853-b259-4121-fc47-28153e15c7c9"
      },
      "execution_count": null,
      "outputs": [
        {
          "output_type": "execute_result",
          "data": {
            "text/plain": [
              "[<matplotlib.lines.Line2D at 0x7fada7190090>]"
            ]
          },
          "metadata": {},
          "execution_count": 11
        },
        {
          "output_type": "display_data",
          "data": {
            "text/plain": [
              "<Figure size 1152x576 with 1 Axes>"
            ],
            "image/png": "[encoded data removed]"
          },
          "metadata": {
            "needs_background": "light"
          }
        }
      ]
    },
    {
      "cell_type": "markdown",
      "source": [
        "# Data normalisation"
      ],
      "metadata": {
        "id": "u0QWe-p-e_uc"
      }
    },
    {
      "cell_type": "code",
      "source": [
        "from sklearn.preprocessing import MinMaxScaler\n",
        "\n",
        "train_df = train_df.iloc[:,0:1]\n",
        "sc = MinMaxScaler(feature_range = (0,1))\n",
        "training_scaled = sc.fit_transform(train_df)\n",
        "training_scaled"
      ],
      "metadata": {
        "colab": {
          "base_uri": "https://localhost:8080/"
        },
        "id": "MO9DAjDP4zFV",
        "outputId": "735e09da-62e8-4a34-9568-b5634a77afc4"
      },
      "execution_count": null,
      "outputs": [
        {
          "output_type": "execute_result",
          "data": {
            "text/plain": [
              "array([[0.16129031],\n",
              "       [0.16226363],\n",
              "       [0.16184649],\n",
              "       ...,\n",
              "       [0.97956061],\n",
              "       [0.98303669],\n",
              "       [0.97928246]])"
            ]
          },
          "metadata": {},
          "execution_count": 12
        }
      ]
    },
    {
      "cell_type": "code",
      "source": [
        "\n",
        "X = []\n",
        "y = []\n",
        "for i in range(60,len(train_df)):\n",
        "    X.append(training_scaled[i-60:i, 0])\n",
        "    y.append(training_scaled[i,0])\n",
        "X,y = np.array(X),np.array(y)\n",
        "X.shape,y.shape"
      ],
      "metadata": {
        "id": "JHHML9-C3Bri",
        "colab": {
          "base_uri": "https://localhost:8080/"
        },
        "outputId": "cce135b8-4194-4634-ce32-1736f5f5ef85"
      },
      "execution_count": null,
      "outputs": [
        {
          "output_type": "execute_result",
          "data": {
            "text/plain": [
              "((3212, 60), (3212,))"
            ]
          },
          "metadata": {},
          "execution_count": 13
        }
      ]
    },
    {
      "cell_type": "code",
      "source": [
        "from sklearn.model_selection import train_test_split\n",
        "res = pd.DataFrame(columns = ['model','mse','rmse'])\n",
        "X_train, X_test, y_train, y_test = train_test_split(X, y, test_size = 0.2, shuffle=False)\n",
        "X_train.shape,y_train.shape"
      ],
      "metadata": {
        "colab": {
          "base_uri": "https://localhost:8080/"
        },
        "id": "tpsn7DZe8FKW",
        "outputId": "2035a02c-43c4-4c86-bfb3-2333f54a97e2"
      },
      "execution_count": null,
      "outputs": [
        {
          "output_type": "execute_result",
          "data": {
            "text/plain": [
              "((2569, 60), (2569,))"
            ]
          },
          "metadata": {},
          "execution_count": 14
        }
      ]
    },
    {
      "cell_type": "code",
      "source": [
        "import xgboost as xgb\n",
        "from sklearn.metrics import mean_squared_error,mean_absolute_error,r2_score\n",
        "\n",
        "model1 = xgb.XGBRegressor()\n",
        "model1.fit(X_train, y_train)\n",
        "y_pred = model1.predict(X_test)\n",
        "\n",
        "\n",
        "mse = mean_squared_error(y_test,y_pred)\n",
        "rmse = math.sqrt(mean_squared_error(y_test,y_pred))\n",
        "mae = mean_absolute_error(y_test,y_pred)\n",
        "r2 = r2_score(y_test,y_pred)\n",
        "res = res.append({'model':'XGBoost','mse':mse,'rmse':rmse, 'mae':mae,'r2':r2},ignore_index=True)"
      ],
      "metadata": {
        "colab": {
          "base_uri": "https://localhost:8080/"
        },
        "id": "AXe0tVovItvo",
        "outputId": "43e66059-df37-4257-ed3d-b942314cf5c6"
      },
      "execution_count": null,
      "outputs": [
        {
          "output_type": "stream",
          "name": "stdout",
          "text": [
            "[10:31:30] WARNING: /workspace/src/objective/regression_obj.cu:152: reg:linear is now deprecated in favor of reg:squarederror.\n"
          ]
        }
      ]
    },
    {
      "cell_type": "code",
      "source": [
        "from sklearn.linear_model import LinearRegression\n",
        "{'copy_X': True, 'fit_intercept': True, 'n_jobs': None, 'normalize': False, 'positive': False}\n",
        "model2 = LinearRegression()\n",
        "model2.fit(X_train, y_train)\n",
        "y_pred = model2.predict(X_test)\n",
        "\n",
        "mse = mean_squared_error(y_test,y_pred)\n",
        "rmse = math.sqrt(mean_squared_error(y_test,y_pred))\n",
        "mae = mean_absolute_error(y_test,y_pred)\n",
        "r2 = r2_score(y_test,y_pred)\n",
        "res = res.append({'model':'LinearRegression','mse':mse,'rmse':rmse, 'mae':mae,'r2':r2},ignore_index=True)"
      ],
      "metadata": {
        "id": "TRFqhT2R2RKv"
      },
      "execution_count": null,
      "outputs": []
    },
    {
      "cell_type": "code",
      "source": [
        "from sklearn.ensemble import BaggingRegressor\n",
        "\n",
        "model3 = BaggingRegressor(base_estimator=LinearRegression(),n_estimators=20)\n",
        "model3.fit(X_train, y_train)\n",
        "y_pred = model3.predict(X_test)\n",
        "\n",
        "mse = mean_squared_error(y_test,y_pred)\n",
        "rmse = math.sqrt(mean_squared_error(y_test,y_pred))\n",
        "mae = mean_absolute_error(y_test,y_pred)\n",
        "r2 = r2_score(y_test,y_pred)\n",
        "res = res.append({'model':'BaggingRegressor','mse':mse,'rmse':rmse, 'mae':mae,'r2':r2},ignore_index=True)"
      ],
      "metadata": {
        "id": "O9qWdoR4Jal9"
      },
      "execution_count": null,
      "outputs": []
    },
    {
      "cell_type": "code",
      "source": [
        "from sklearn.ensemble import RandomForestRegressor\n",
        "\n",
        "model4 = RandomForestRegressor(max_depth=20)\n",
        "model4.fit(X_train, y_train)\n",
        "y_pred = model4.predict(X_test)\n",
        "\n",
        "mse = mean_squared_error(y_test,y_pred)\n",
        "rmse = math.sqrt(mean_squared_error(y_test,y_pred))\n",
        "mae = mean_absolute_error(y_test,y_pred)\n",
        "r2 = r2_score(y_test,y_pred)\n",
        "res = res.append({'model':'RandomForestRegressor','mse':mse,'rmse':rmse, 'mae':mae,'r2':r2},ignore_index=True)"
      ],
      "metadata": {
        "id": "w9oowH_0K7pm"
      },
      "execution_count": null,
      "outputs": []
    },
    {
      "cell_type": "code",
      "source": [
        "from sklearn.linear_model import Ridge\n",
        "\n",
        "model5 = Ridge(alpha=0.1)\n",
        "model5.fit(X_train, y_train)\n",
        "y_pred = model5.predict(X_test)\n",
        "\n",
        "mse = mean_squared_error(y_test,y_pred)\n",
        "rmse = math.sqrt(mean_squared_error(y_test,y_pred))\n",
        "mae = mean_absolute_error(y_test,y_pred)\n",
        "r2 = r2_score(y_test,y_pred)\n",
        "res = res.append({'model':'RidgeRegressor','mse':mse,'rmse':rmse, 'mae':mae,'r2':r2},ignore_index=True)"
      ],
      "metadata": {
        "id": "8G_ekN4PLcJP"
      },
      "execution_count": null,
      "outputs": []
    },
    {
      "cell_type": "code",
      "source": [
        "from sklearn.linear_model import Lasso\n",
        "\n",
        "model6 = Lasso(alpha=0.1)\n",
        "model6.fit(X_train, y_train)\n",
        "y_pred = model6.predict(X_test)\n",
        "\n",
        "mse = mean_squared_error(y_test,y_pred)\n",
        "rmse = math.sqrt(mean_squared_error(y_test,y_pred))\n",
        "mae = mean_absolute_error(y_test,y_pred)\n",
        "r2 = r2_score(y_test,y_pred)\n",
        "res = res.append({'model':'LassoRegressor','mse':mse,'rmse':rmse, 'mae':mae,'r2':r2},ignore_index=True)"
      ],
      "metadata": {
        "id": "Du31r-1RL4io"
      },
      "execution_count": null,
      "outputs": []
    },
    {
      "cell_type": "markdown",
      "source": [
        "LSTM"
      ],
      "metadata": {
        "id": "AUwt8jiZgkzd"
      }
    },
    {
      "cell_type": "code",
      "source": [
        "X = np.reshape(X, (X.shape[0],X.shape[1],1))\n",
        "X.shape"
      ],
      "metadata": {
        "colab": {
          "base_uri": "https://localhost:8080/"
        },
        "id": "0TSeqGY_VUnt",
        "outputId": "44d0e850-aad0-495b-af38-cde40f01c2c1"
      },
      "execution_count": null,
      "outputs": [
        {
          "output_type": "execute_result",
          "data": {
            "text/plain": [
              "(3212, 60, 1)"
            ]
          },
          "metadata": {},
          "execution_count": 21
        }
      ]
    },
    {
      "cell_type": "code",
      "source": [
        "import tensorflow as tf\n",
        "from tensorflow.keras.layers import Input, Dense, LSTM, Dropout\n",
        "from tensorflow.keras.models import Sequential\n",
        "\n",
        "model_dl1 = Sequential()\n",
        "model_dl1.add(LSTM(units = 50,return_sequences = True,input_shape = (X.shape[1],1)))\n",
        "model_dl1.add(Dropout(0.2))\n",
        "\n",
        "model_dl1.add(LSTM(units = 50,return_sequences = True))\n",
        "model_dl1.add(Dropout(0.2))\n",
        "\n",
        "model_dl1.add(LSTM(units = 50,return_sequences = True))\n",
        "model_dl1.add(Dropout(0.2))\n",
        "\n",
        "model_dl1.add(LSTM(units=50))\n",
        "model_dl1.add(Dropout(0.2))\n",
        "\n",
        "model_dl1.add(Dense(units=1))\n",
        "\n",
        "model_dl1.compile(optimizer='adam',loss='mean_squared_error')\n",
        "\n",
        "print(model_dl1.summary())\n",
        "\n",
        "model_dl1.fit(X_train,y_train,epochs=20,batch_size=32)\n",
        "y_pred = model_dl1.predict(X_test)\n",
        "\n",
        "mse = mean_squared_error(y_test,y_pred)\n",
        "rmse = math.sqrt(mean_squared_error(y_test,y_pred))\n",
        "mae = mean_absolute_error(y_test,y_pred)\n",
        "r2 = r2_score(y_test,y_pred)\n",
        "\n",
        "res = res.append({'model':'LSTM1','mse':mse,'rmse':rmse, 'mae':mae,'r2':r2},ignore_index=True)"
      ],
      "metadata": {
        "id": "trWw4vhKVUr4",
        "colab": {
          "base_uri": "https://localhost:8080/"
        },
        "outputId": "e87baa1c-28b1-4798-b9e6-a84e0721fe2a"
      },
      "execution_count": null,
      "outputs": [
        {
          "output_type": "stream",
          "name": "stdout",
          "text": [
            "Model: \"sequential\"\n",
            "_________________________________________________________________\n",
            " Layer (type)                Output Shape              Param #   \n",
            "=================================================================\n",
            " lstm (LSTM)                 (None, 60, 50)            10400     \n",
            "                                                                 \n",
            " dropout (Dropout)           (None, 60, 50)            0         \n",
            "                                                                 \n",
            " lstm_1 (LSTM)               (None, 60, 50)            20200     \n",
            "                                                                 \n",
            " dropout_1 (Dropout)         (None, 60, 50)            0         \n",
            "                                                                 \n",
            " lstm_2 (LSTM)               (None, 60, 50)            20200     \n",
            "                                                                 \n",
            " dropout_2 (Dropout)         (None, 60, 50)            0         \n",
            "                                                                 \n",
            " lstm_3 (LSTM)               (None, 50)                20200     \n",
            "                                                                 \n",
            " dropout_3 (Dropout)         (None, 50)                0         \n",
            "                                                                 \n",
            " dense (Dense)               (None, 1)                 51        \n",
            "                                                                 \n",
            "=================================================================\n",
            "Total params: 71,051\n",
            "Trainable params: 71,051\n",
            "Non-trainable params: 0\n",
            "_________________________________________________________________\n",
            "None\n",
            "Epoch 1/20\n",
            "81/81 [==============================] - 24s 125ms/step - loss: 0.0032\n",
            "Epoch 2/20\n",
            "81/81 [==============================] - 10s 127ms/step - loss: 9.0651e-04\n",
            "Epoch 3/20\n",
            "81/81 [==============================] - 10s 126ms/step - loss: 7.8943e-04\n",
            "Epoch 4/20\n",
            "81/81 [==============================] - 10s 124ms/step - loss: 6.8361e-04\n",
            "Epoch 5/20\n",
            "81/81 [==============================] - 10s 125ms/step - loss: 6.5117e-04\n",
            "Epoch 6/20\n",
            "81/81 [==============================] - 10s 126ms/step - loss: 6.1147e-04\n",
            "Epoch 7/20\n",
            "81/81 [==============================] - 10s 125ms/step - loss: 6.4029e-04\n",
            "Epoch 8/20\n",
            "81/81 [==============================] - 10s 126ms/step - loss: 6.1152e-04\n",
            "Epoch 9/20\n",
            "81/81 [==============================] - 12s 150ms/step - loss: 5.8713e-04\n",
            "Epoch 10/20\n",
            "81/81 [==============================] - 11s 134ms/step - loss: 4.8231e-04\n",
            "Epoch 11/20\n",
            "81/81 [==============================] - 10s 119ms/step - loss: 4.7386e-04\n",
            "Epoch 12/20\n",
            "81/81 [==============================] - 10s 123ms/step - loss: 4.5041e-04\n",
            "Epoch 13/20\n",
            "81/81 [==============================] - 10s 125ms/step - loss: 4.0665e-04\n",
            "Epoch 14/20\n",
            "81/81 [==============================] - 10s 124ms/step - loss: 3.8466e-04\n",
            "Epoch 15/20\n",
            "81/81 [==============================] - 10s 122ms/step - loss: 3.7275e-04\n",
            "Epoch 16/20\n",
            "81/81 [==============================] - 10s 125ms/step - loss: 4.0915e-04\n",
            "Epoch 17/20\n",
            "81/81 [==============================] - 10s 125ms/step - loss: 3.5518e-04\n",
            "Epoch 18/20\n",
            "81/81 [==============================] - 10s 126ms/step - loss: 3.3760e-04\n",
            "Epoch 19/20\n",
            "81/81 [==============================] - 10s 126ms/step - loss: 3.4282e-04\n",
            "Epoch 20/20\n",
            "81/81 [==============================] - 10s 125ms/step - loss: 3.2637e-04\n"
          ]
        }
      ]
    },
    {
      "cell_type": "code",
      "source": [
        "import tensorflow as tf\n",
        "from tensorflow.keras.layers import Input, Dense, LSTM, Dropout\n",
        "from tensorflow.keras.models import Sequential\n",
        "\n",
        "\n",
        "model_dl2 = Sequential()\n",
        "model_dl2.add(LSTM(units = 100,return_sequences = True,input_shape = (X.shape[1],1)))\n",
        "model_dl2.add(Dropout(0.2))\n",
        "\n",
        "model_dl2.add(LSTM(units=100))\n",
        "model_dl2.add(Dropout(0.2))\n",
        "\n",
        "model_dl2.add(Dense(units=1))\n",
        "\n",
        "model_dl2.compile(optimizer='adam',loss='mean_squared_error')\n",
        "\n",
        "print(model_dl2.summary())\n",
        "\n",
        "model_dl2.fit(X_train,y_train,epochs=20,batch_size=32)\n",
        "y_pred = model_dl2.predict(X_test)\n",
        "\n",
        "mse = mean_squared_error(y_test,y_pred)\n",
        "rmse = math.sqrt(mean_squared_error(y_test,y_pred))\n",
        "mae = mean_absolute_error(y_test,y_pred)\n",
        "r2 = r2_score(y_test,y_pred)\n",
        "\n",
        "res = res.append({'model':'LSTM2','mse':mse,'rmse':rmse, 'mae':mae,'r2':r2},ignore_index=True)"
      ],
      "metadata": {
        "colab": {
          "base_uri": "https://localhost:8080/"
        },
        "id": "RrrHvJ-fn3Tg",
        "outputId": "f21db57b-070d-4706-8ecb-1cd3959fe9bc"
      },
      "execution_count": null,
      "outputs": [
        {
          "output_type": "stream",
          "name": "stdout",
          "text": [
            "Model: \"sequential_1\"\n",
            "_________________________________________________________________\n",
            " Layer (type)                Output Shape              Param #   \n",
            "=================================================================\n",
            " lstm_4 (LSTM)               (None, 60, 100)           40800     \n",
            "                                                                 \n",
            " dropout_4 (Dropout)         (None, 60, 100)           0         \n",
            "                                                                 \n",
            " lstm_5 (LSTM)               (None, 100)               80400     \n",
            "                                                                 \n",
            " dropout_5 (Dropout)         (None, 100)               0         \n",
            "                                                                 \n",
            " dense_1 (Dense)             (None, 1)                 101       \n",
            "                                                                 \n",
            "=================================================================\n",
            "Total params: 121,301\n",
            "Trainable params: 121,301\n",
            "Non-trainable params: 0\n",
            "_________________________________________________________________\n",
            "None\n",
            "Epoch 1/20\n",
            "81/81 [==============================] - 12s 97ms/step - loss: 0.0024\n",
            "Epoch 2/20\n",
            "81/81 [==============================] - 8s 97ms/step - loss: 3.8910e-04\n",
            "Epoch 3/20\n",
            "81/81 [==============================] - 8s 96ms/step - loss: 3.5474e-04\n",
            "Epoch 4/20\n",
            "81/81 [==============================] - 8s 97ms/step - loss: 3.6586e-04\n",
            "Epoch 5/20\n",
            "81/81 [==============================] - 8s 97ms/step - loss: 3.3995e-04\n",
            "Epoch 6/20\n",
            "81/81 [==============================] - 8s 97ms/step - loss: 3.2925e-04\n",
            "Epoch 7/20\n",
            "81/81 [==============================] - 8s 97ms/step - loss: 3.4347e-04\n",
            "Epoch 8/20\n",
            "81/81 [==============================] - 8s 97ms/step - loss: 2.8832e-04\n",
            "Epoch 9/20\n",
            "81/81 [==============================] - 8s 97ms/step - loss: 2.9689e-04\n",
            "Epoch 10/20\n",
            "81/81 [==============================] - 8s 98ms/step - loss: 3.0312e-04\n",
            "Epoch 11/20\n",
            "81/81 [==============================] - 8s 98ms/step - loss: 2.6443e-04\n",
            "Epoch 12/20\n",
            "81/81 [==============================] - 8s 98ms/step - loss: 2.7934e-04\n",
            "Epoch 13/20\n",
            "81/81 [==============================] - 9s 107ms/step - loss: 2.6683e-04\n",
            "Epoch 14/20\n",
            "81/81 [==============================] - 8s 100ms/step - loss: 2.3973e-04\n",
            "Epoch 15/20\n",
            "81/81 [==============================] - 8s 99ms/step - loss: 2.4263e-04\n",
            "Epoch 16/20\n",
            "81/81 [==============================] - 8s 98ms/step - loss: 2.1236e-04\n",
            "Epoch 17/20\n",
            "81/81 [==============================] - 8s 97ms/step - loss: 2.1408e-04\n",
            "Epoch 18/20\n",
            "81/81 [==============================] - 8s 98ms/step - loss: 2.0746e-04\n",
            "Epoch 19/20\n",
            "81/81 [==============================] - 8s 97ms/step - loss: 2.0797e-04\n",
            "Epoch 20/20\n",
            "81/81 [==============================] - 8s 97ms/step - loss: 1.9059e-04\n"
          ]
        }
      ]
    },
    {
      "cell_type": "code",
      "source": [
        "res"
      ],
      "metadata": {
        "colab": {
          "base_uri": "https://localhost:8080/",
          "height": 300
        },
        "id": "NJ7tdEydpiHo",
        "outputId": "f7efb6aa-852c-4cee-b47b-fd07a49928ba"
      },
      "execution_count": null,
      "outputs": [
        {
          "output_type": "execute_result",
          "data": {
            "text/plain": [
              "                   model       mse      rmse       mae        r2\n",
              "0                XGBoost  0.057938  0.240703  0.188627 -1.430796\n",
              "1       LinearRegression  0.000115  0.010716  0.007357  0.995182\n",
              "2       BaggingRegressor  0.000115  0.010729  0.007370  0.995170\n",
              "3  RandomForestRegressor  0.050023  0.223659  0.170854 -1.098737\n",
              "4         RidgeRegressor  0.000126  0.011224  0.007793  0.994715\n",
              "5         LassoRegressor  0.203962  0.451622  0.424414 -7.557281\n",
              "6                  LSTM1  0.001335  0.036533  0.030270  0.944003\n",
              "7                  LSTM2  0.000221  0.014873  0.010655  0.990719"
            ],
            "text/html": [
              "\n",
              "  <div id=\"df-4c804a9a-2add-45b3-9938-4196ba96c482\">\n",
              "    <div class=\"colab-df-container\">\n",
              "      <div>\n",
              "<style scoped>\n",
              "    .dataframe tbody tr th:only-of-type {\n",
              "        vertical-align: middle;\n",
              "    }\n",
              "\n",
              "    .dataframe tbody tr th {\n",
              "        vertical-align: top;\n",
              "    }\n",
              "\n",
              "    .dataframe thead th {\n",
              "        text-align: right;\n",
              "    }\n",
              "</style>\n",
              "<table border=\"1\" class=\"dataframe\">\n",
              "  <thead>\n",
              "    <tr style=\"text-align: right;\">\n",
              "      <th></th>\n",
              "      <th>model</th>\n",
              "      <th>mse</th>\n",
              "      <th>rmse</th>\n",
              "      <th>mae</th>\n",
              "      <th>r2</th>\n",
              "    </tr>\n",
              "  </thead>\n",
              "  <tbody>\n",
              "    <tr>\n",
              "      <th>0</th>\n",
              "      <td>XGBoost</td>\n",
              "      <td>0.057938</td>\n",
              "      <td>0.240703</td>\n",
              "      <td>0.188627</td>\n",
              "      <td>-1.430796</td>\n",
              "    </tr>\n",
              "    <tr>\n",
              "      <th>1</th>\n",
              "      <td>LinearRegression</td>\n",
              "      <td>0.000115</td>\n",
              "      <td>0.010716</td>\n",
              "      <td>0.007357</td>\n",
              "      <td>0.995182</td>\n",
              "    </tr>\n",
              "    <tr>\n",
              "      <th>2</th>\n",
              "      <td>BaggingRegressor</td>\n",
              "      <td>0.000115</td>\n",
              "      <td>0.010729</td>\n",
              "      <td>0.007370</td>\n",
              "      <td>0.995170</td>\n",
              "    </tr>\n",
              "    <tr>\n",
              "      <th>3</th>\n",
              "      <td>RandomForestRegressor</td>\n",
              "      <td>0.050023</td>\n",
              "      <td>0.223659</td>\n",
              "      <td>0.170854</td>\n",
              "      <td>-1.098737</td>\n",
              "    </tr>\n",
              "    <tr>\n",
              "      <th>4</th>\n",
              "      <td>RidgeRegressor</td>\n",
              "      <td>0.000126</td>\n",
              "      <td>0.011224</td>\n",
              "      <td>0.007793</td>\n",
              "      <td>0.994715</td>\n",
              "    </tr>\n",
              "    <tr>\n",
              "      <th>5</th>\n",
              "      <td>LassoRegressor</td>\n",
              "      <td>0.203962</td>\n",
              "      <td>0.451622</td>\n",
              "      <td>0.424414</td>\n",
              "      <td>-7.557281</td>\n",
              "    </tr>\n",
              "    <tr>\n",
              "      <th>6</th>\n",
              "      <td>LSTM1</td>\n",
              "      <td>0.001335</td>\n",
              "      <td>0.036533</td>\n",
              "      <td>0.030270</td>\n",
              "      <td>0.944003</td>\n",
              "    </tr>\n",
              "    <tr>\n",
              "      <th>7</th>\n",
              "      <td>LSTM2</td>\n",
              "      <td>0.000221</td>\n",
              "      <td>0.014873</td>\n",
              "      <td>0.010655</td>\n",
              "      <td>0.990719</td>\n",
              "    </tr>\n",
              "  </tbody>\n",
              "</table>\n",
              "</div>\n",
              "      <button class=\"colab-df-convert\" onclick=\"convertToInteractive('df-4c804a9a-2add-45b3-9938-4196ba96c482')\"\n",
              "              title=\"Convert this dataframe to an interactive table.\"\n",
              "              style=\"display:none;\">\n",
              "        \n",
              "  <svg xmlns=\"http://www.w3.org/2000/svg\" height=\"24px\"viewBox=\"0 0 24 24\"\n",
              "       width=\"24px\">\n",
              "    <path d=\"M0 0h24v24H0V0z\" fill=\"none\"/>\n",
              "    <path d=\"M18.56 5.44l.94 2.06.94-2.06 2.06-.94-2.06-.94-.94-2.06-.94 2.06-2.06.94zm-11 1L8.5 8.5l.94-2.06 2.06-.94-2.06-.94L8.5 2.5l-.94 2.06-2.06.94zm10 10l.94 2.06.94-2.06 2.06-.94-2.06-.94-.94-2.06-.94 2.06-2.06.94z\"/><path d=\"M17.41 7.96l-1.37-1.37c-.4-.4-.92-.59-1.43-.59-.52 0-1.04.2-1.43.59L10.3 9.45l-7.72 7.72c-.78.78-.78 2.05 0 2.83L4 21.41c.39.39.9.59 1.41.59.51 0 1.02-.2 1.41-.59l7.78-7.78 2.81-2.81c.8-.78.8-2.07 0-2.86zM5.41 20L4 18.59l7.72-7.72 1.47 1.35L5.41 20z\"/>\n",
              "  </svg>\n",
              "      </button>\n",
              "      \n",
              "  <style>\n",
              "    .colab-df-container {\n",
              "      display:flex;\n",
              "      flex-wrap:wrap;\n",
              "      gap: 12px;\n",
              "    }\n",
              "\n",
              "    .colab-df-convert {\n",
              "      background-color: #E8F0FE;\n",
              "      border: none;\n",
              "      border-radius: 50%;\n",
              "      cursor: pointer;\n",
              "      display: none;\n",
              "      fill: #1967D2;\n",
              "      height: 32px;\n",
              "      padding: 0 0 0 0;\n",
              "      width: 32px;\n",
              "    }\n",
              "\n",
              "    .colab-df-convert:hover {\n",
              "      background-color: #E2EBFA;\n",
              "      box-shadow: 0px 1px 2px rgba(60, 64, 67, 0.3), 0px 1px 3px 1px rgba(60, 64, 67, 0.15);\n",
              "      fill: #174EA6;\n",
              "    }\n",
              "\n",
              "    [theme=dark] .colab-df-convert {\n",
              "      background-color: #3B4455;\n",
              "      fill: #D2E3FC;\n",
              "    }\n",
              "\n",
              "    [theme=dark] .colab-df-convert:hover {\n",
              "      background-color: #434B5C;\n",
              "      box-shadow: 0px 1px 3px 1px rgba(0, 0, 0, 0.15);\n",
              "      filter: drop-shadow(0px 1px 2px rgba(0, 0, 0, 0.3));\n",
              "      fill: #FFFFFF;\n",
              "    }\n",
              "  </style>\n",
              "\n",
              "      <script>\n",
              "        const buttonEl =\n",
              "          document.querySelector('#df-4c804a9a-2add-45b3-9938-4196ba96c482 button.colab-df-convert');\n",
              "        buttonEl.style.display =\n",
              "          google.colab.kernel.accessAllowed ? 'block' : 'none';\n",
              "\n",
              "        async function convertToInteractive(key) {\n",
              "          const element = document.querySelector('#df-4c804a9a-2add-45b3-9938-4196ba96c482');\n",
              "          const dataTable =\n",
              "            await google.colab.kernel.invokeFunction('convertToInteractive',\n",
              "                                                     [key], {});\n",
              "          if (!dataTable) return;\n",
              "\n",
              "          const docLinkHtml = 'Like what you see? Visit the ' +\n",
              "            '<a target=\"_blank\" href=https://colab.research.google.com/notebooks/data_table.ipynb>data table notebook</a>'\n",
              "            + ' to learn more about interactive tables.';\n",
              "          element.innerHTML = '';\n",
              "          dataTable['output_type'] = 'display_data';\n",
              "          await google.colab.output.renderOutput(dataTable, element);\n",
              "          const docLink = document.createElement('div');\n",
              "          docLink.innerHTML = docLinkHtml;\n",
              "          element.appendChild(docLink);\n",
              "        }\n",
              "      </script>\n",
              "    </div>\n",
              "  </div>\n",
              "  "
            ]
          },
          "metadata": {},
          "execution_count": 24
        }
      ]
    },
    {
      "cell_type": "markdown",
      "source": [
        "From the results of the training set, \n",
        "\n",
        "*   It is clear that Linear regression performs the best out of all. BaggingRegressor is also very close enough when compared followed by RidgeRegressor.\n",
        "\n",
        "*   The Best model's accuracy and performance can be futher improved by hyperparameter tuning techniques using Gridsearch cv or libraries hyperopt/optuna to find the best parameters.\n",
        "\n",
        "* Further, K-fold cross validation can be introduced too.\n"
      ],
      "metadata": {
        "id": "GyAWeciXPrpH"
      }
    },
    {
      "cell_type": "markdown",
      "source": [
        "# Results on test set "
      ],
      "metadata": {
        "id": "WKTwC2TroACK"
      }
    },
    {
      "cell_type": "code",
      "source": [
        "from sklearn.preprocessing import MinMaxScaler\n",
        "\n",
        "test_df = test_df.iloc[:,0:1]\n",
        "sc = MinMaxScaler(feature_range = (0,1))\n",
        "testing_scaled = sc.fit_transform(test_df)\n",
        "testing_scaled.shape"
      ],
      "metadata": {
        "colab": {
          "base_uri": "https://localhost:8080/"
        },
        "id": "CkdDXgFophR-",
        "outputId": "927e7705-7f94-4a00-bddd-d51d1fc9c207"
      },
      "execution_count": null,
      "outputs": [
        {
          "output_type": "execute_result",
          "data": {
            "text/plain": [
              "(755, 1)"
            ]
          },
          "metadata": {},
          "execution_count": 25
        }
      ]
    },
    {
      "cell_type": "code",
      "source": [
        "import numpy as np\n",
        "\n",
        "X = []\n",
        "y = []\n",
        "for i in range(60,len(test_df)):\n",
        "    X.append(testing_scaled[i-60:i, 0])\n",
        "    y.append(testing_scaled[i,0])\n",
        "X,y = np.array(X),np.array(y)\n",
        "X.shape,y.shape"
      ],
      "metadata": {
        "id": "xjsvmhjjmAyw",
        "colab": {
          "base_uri": "https://localhost:8080/"
        },
        "outputId": "96f35d58-9384-4c67-81f4-e209a728a055"
      },
      "execution_count": null,
      "outputs": [
        {
          "output_type": "execute_result",
          "data": {
            "text/plain": [
              "((695, 60), (695,))"
            ]
          },
          "metadata": {},
          "execution_count": 26
        }
      ]
    },
    {
      "cell_type": "code",
      "source": [
        "y_pred = model1.predict(X)\n",
        "\n",
        "mse = mean_squared_error(y,y_pred)\n",
        "rmse = math.sqrt(mean_squared_error(y,y_pred))\n",
        "mae = mean_absolute_error(y,y_pred)\n",
        "r2 = r2_score(y,y_pred)\n",
        "print(mse,rmse)\n",
        "res = res.append({'model':'XGBoost_val','mse':mse,'rmse':rmse, 'mae':mae,'r2':r2},ignore_index=True)"
      ],
      "metadata": {
        "colab": {
          "base_uri": "https://localhost:8080/"
        },
        "id": "N0KrIWy8oE3H",
        "outputId": "6ce256ec-ddd4-46f0-ed28-8654da0d05ca"
      },
      "execution_count": null,
      "outputs": [
        {
          "output_type": "stream",
          "name": "stdout",
          "text": [
            "0.04250761513817558 0.20617374987659215\n"
          ]
        }
      ]
    },
    {
      "cell_type": "code",
      "source": [
        "y_pred = model2.predict(X)\n",
        "\n",
        "mse = mean_squared_error(y,y_pred)\n",
        "rmse = math.sqrt(mean_squared_error(y,y_pred))\n",
        "mae = mean_absolute_error(y,y_pred)\n",
        "r2 = r2_score(y,y_pred)\n",
        "print(mse,rmse)\n",
        "res = res.append({'model':'LinearRegression_val','mse':mse,'rmse':rmse, 'mae':mae,'r2':r2},ignore_index=True)"
      ],
      "metadata": {
        "colab": {
          "base_uri": "https://localhost:8080/"
        },
        "id": "ArpB8Z8coE68",
        "outputId": "b84e9f02-51a7-4e73-b7f6-ea28259fc4f3"
      },
      "execution_count": null,
      "outputs": [
        {
          "output_type": "stream",
          "name": "stdout",
          "text": [
            "0.00041951105345931696 0.020481968983945782\n"
          ]
        }
      ]
    },
    {
      "cell_type": "code",
      "source": [
        "plt.plot(y, color = 'black', label = 'Stock Price')\n",
        "plt.plot(y_pred, color = 'green', label = 'Predicted Stock Price')\n",
        "plt.title('Stock Price Prediction')\n",
        "plt.xlabel('Time')\n",
        "plt.ylabel('TATA Stock Price')\n",
        "plt.legend()\n",
        "plt.show()"
      ],
      "metadata": {
        "colab": {
          "base_uri": "https://localhost:8080/",
          "height": 295
        },
        "id": "RPTZQNAPWpHx",
        "outputId": "081b3c41-1baa-4235-9916-ec32caf33fdc"
      },
      "execution_count": null,
      "outputs": [
        {
          "output_type": "display_data",
          "data": {
            "text/plain": [
              "<Figure size 432x288 with 1 Axes>"
            ],
            "image/png": "[encoded data removed]"
          },
          "metadata": {
            "needs_background": "light"
          }
        }
      ]
    },
    {
      "cell_type": "code",
      "source": [
        "y_pred = model3.predict(X)\n",
        "\n",
        "mse = mean_squared_error(y,y_pred)\n",
        "rmse = math.sqrt(mean_squared_error(y,y_pred))\n",
        "mae = mean_absolute_error(y,y_pred)\n",
        "r2 = r2_score(y,y_pred)\n",
        "print(mse,rmse)\n",
        "res = res.append({'model':'BaggingRegressor_val','mse':mse,'rmse':rmse, 'mae':mae,'r2':r2},ignore_index=True)"
      ],
      "metadata": {
        "colab": {
          "base_uri": "https://localhost:8080/"
        },
        "id": "BILtaXENrpfG",
        "outputId": "8fd38641-dd41-4439-b360-e0a6ed2c44d9"
      },
      "execution_count": null,
      "outputs": [
        {
          "output_type": "stream",
          "name": "stdout",
          "text": [
            "0.00041998654792387214 0.02049357333223936\n"
          ]
        }
      ]
    },
    {
      "cell_type": "code",
      "source": [
        "y_pred = model4.predict(X)\n",
        "\n",
        "mse = mean_squared_error(y,y_pred)\n",
        "rmse = math.sqrt(mean_squared_error(y,y_pred))\n",
        "mae = mean_absolute_error(y,y_pred)\n",
        "r2 = r2_score(y,y_pred)\n",
        "print(mse,rmse)\n",
        "res = res.append({'model':'RandomForestRegressor_val','mse':mse,'rmse':rmse, 'mae':mae,'r2':r2},ignore_index=True)"
      ],
      "metadata": {
        "colab": {
          "base_uri": "https://localhost:8080/"
        },
        "id": "0-IVXkYGrp5S",
        "outputId": "107ab042-91ba-45d7-c931-bb6df1b01eba"
      },
      "execution_count": null,
      "outputs": [
        {
          "output_type": "stream",
          "name": "stdout",
          "text": [
            "0.0381591081265915 0.1953435643336926\n"
          ]
        }
      ]
    },
    {
      "cell_type": "code",
      "source": [
        "y_pred = model5.predict(X)\n",
        "\n",
        "mse = mean_squared_error(y,y_pred)\n",
        "rmse = math.sqrt(mean_squared_error(y,y_pred))\n",
        "mae = mean_absolute_error(y,y_pred)\n",
        "r2 = r2_score(y,y_pred)\n",
        "print(mse,rmse)\n",
        "res = res.append({'model':'RidgeRegressor_val','mse':mse,'rmse':rmse, 'mae':mae,'r2':r2},ignore_index=True)"
      ],
      "metadata": {
        "colab": {
          "base_uri": "https://localhost:8080/"
        },
        "id": "Z_t0pdJDrp8c",
        "outputId": "0d096eb0-d851-440d-b484-0147b803df54"
      },
      "execution_count": null,
      "outputs": [
        {
          "output_type": "stream",
          "name": "stdout",
          "text": [
            "0.0004468514150829809 0.021138860307097468\n"
          ]
        }
      ]
    },
    {
      "cell_type": "code",
      "source": [
        "y_pred = model6.predict(X)\n",
        "\n",
        "mse = mean_squared_error(y,y_pred)\n",
        "rmse = math.sqrt(mean_squared_error(y,y_pred))\n",
        "mae = mean_absolute_error(y,y_pred)\n",
        "r2 = r2_score(y,y_pred)\n",
        "print(mse,rmse)\n",
        "res = res.append({'model':'LassoRegressor_val','mse':mse,'rmse':rmse, 'mae':mae,'r2':r2},ignore_index=True)"
      ],
      "metadata": {
        "colab": {
          "base_uri": "https://localhost:8080/"
        },
        "id": "ftlMFoYOrqAa",
        "outputId": "2f3b2d1c-3551-464f-ea45-8bf3239ab783"
      },
      "execution_count": null,
      "outputs": [
        {
          "output_type": "stream",
          "name": "stdout",
          "text": [
            "0.12653269974848327 0.3557143513389406\n"
          ]
        }
      ]
    },
    {
      "cell_type": "code",
      "source": [
        "X = np.reshape(X, (X.shape[0],X.shape[1],1))\n",
        "X.shape"
      ],
      "metadata": {
        "colab": {
          "base_uri": "https://localhost:8080/"
        },
        "id": "xTmU-BrRrqD7",
        "outputId": "53bea590-0ca1-4951-f772-de7316f78aab"
      },
      "execution_count": null,
      "outputs": [
        {
          "output_type": "execute_result",
          "data": {
            "text/plain": [
              "(695, 60, 1)"
            ]
          },
          "metadata": {},
          "execution_count": 34
        }
      ]
    },
    {
      "cell_type": "code",
      "source": [
        "y_pred = model_dl1.predict(X)\n",
        "\n",
        "mse = mean_squared_error(y,y_pred)\n",
        "rmse = math.sqrt(mean_squared_error(y,y_pred))\n",
        "mae = mean_absolute_error(y,y_pred)\n",
        "r2 = r2_score(y,y_pred)\n",
        "print(mse,rmse)\n",
        "res = res.append({'model':'LSTM1_val','mse':mse,'rmse':rmse, 'mae':mae,'r2':r2},ignore_index=True)"
      ],
      "metadata": {
        "colab": {
          "base_uri": "https://localhost:8080/"
        },
        "id": "mgYIaIEdsj1r",
        "outputId": "f9a90e51-8e8c-477a-9988-5b5f8f742220"
      },
      "execution_count": null,
      "outputs": [
        {
          "output_type": "stream",
          "name": "stdout",
          "text": [
            "0.0019063320892722237 0.04366156306492272\n"
          ]
        }
      ]
    },
    {
      "cell_type": "code",
      "source": [
        "y_pred = model_dl2.predict(X)\n",
        "\n",
        "mse = mean_squared_error(y,y_pred)\n",
        "rmse = math.sqrt(mean_squared_error(y,y_pred))\n",
        "mae = mean_absolute_error(y,y_pred)\n",
        "r2 = r2_score(y,y_pred)\n",
        "print(mse,rmse)\n",
        "res = res.append({'model':'LSTM2_val','mse':mse,'rmse':rmse, 'mae':mae,'r2':r2},ignore_index=True)"
      ],
      "metadata": {
        "colab": {
          "base_uri": "https://localhost:8080/"
        },
        "id": "wNkWLAAHsj4_",
        "outputId": "0bc269d2-1efe-4bb8-9238-5fff6c97f56e"
      },
      "execution_count": null,
      "outputs": [
        {
          "output_type": "stream",
          "name": "stdout",
          "text": [
            "0.0007175484607549394 0.026787095041361605\n"
          ]
        }
      ]
    },
    {
      "cell_type": "code",
      "source": [
        "res"
      ],
      "metadata": {
        "colab": {
          "base_uri": "https://localhost:8080/",
          "height": 551
        },
        "id": "OnNoQt8ns0rv",
        "outputId": "40b3f8c7-fc16-4e6b-99c7-299ced0b28aa"
      },
      "execution_count": null,
      "outputs": [
        {
          "output_type": "execute_result",
          "data": {
            "text/plain": [
              "                        model       mse      rmse       mae        r2\n",
              "0                     XGBoost  0.057938  0.240703  0.188627 -1.430796\n",
              "1            LinearRegression  0.000115  0.010716  0.007357  0.995182\n",
              "2            BaggingRegressor  0.000115  0.010729  0.007370  0.995170\n",
              "3       RandomForestRegressor  0.050023  0.223659  0.170854 -1.098737\n",
              "4              RidgeRegressor  0.000126  0.011224  0.007793  0.994715\n",
              "5              LassoRegressor  0.203962  0.451622  0.424414 -7.557281\n",
              "6                       LSTM1  0.001335  0.036533  0.030270  0.944003\n",
              "7                       LSTM2  0.000221  0.014873  0.010655  0.990719\n",
              "8                 XGBoost_val  0.042508  0.206174  0.116090  0.471661\n",
              "9        LinearRegression_val  0.000420  0.020482  0.013900  0.994786\n",
              "10       BaggingRegressor_val  0.000420  0.020494  0.013927  0.994780\n",
              "11  RandomForestRegressor_val  0.038159  0.195344  0.109838  0.525710\n",
              "12         RidgeRegressor_val  0.000447  0.021139  0.014259  0.994446\n",
              "13         LassoRegressor_val  0.126533  0.355714  0.264671 -0.572711\n",
              "14                  LSTM1_val  0.001906  0.043662  0.031864  0.976306\n",
              "15                  LSTM2_val  0.000718  0.026787  0.018747  0.991081"
            ],
            "text/html": [
              "\n",
              "  <div id=\"df-eedb12c6-db57-4104-827a-5191a96a6d62\">\n",
              "    <div class=\"colab-df-container\">\n",
              "      <div>\n",
              "<style scoped>\n",
              "    .dataframe tbody tr th:only-of-type {\n",
              "        vertical-align: middle;\n",
              "    }\n",
              "\n",
              "    .dataframe tbody tr th {\n",
              "        vertical-align: top;\n",
              "    }\n",
              "\n",
              "    .dataframe thead th {\n",
              "        text-align: right;\n",
              "    }\n",
              "</style>\n",
              "<table border=\"1\" class=\"dataframe\">\n",
              "  <thead>\n",
              "    <tr style=\"text-align: right;\">\n",
              "      <th></th>\n",
              "      <th>model</th>\n",
              "      <th>mse</th>\n",
              "      <th>rmse</th>\n",
              "      <th>mae</th>\n",
              "      <th>r2</th>\n",
              "    </tr>\n",
              "  </thead>\n",
              "  <tbody>\n",
              "    <tr>\n",
              "      <th>0</th>\n",
              "      <td>XGBoost</td>\n",
              "      <td>0.057938</td>\n",
              "      <td>0.240703</td>\n",
              "      <td>0.188627</td>\n",
              "      <td>-1.430796</td>\n",
              "    </tr>\n",
              "    <tr>\n",
              "      <th>1</th>\n",
              "      <td>LinearRegression</td>\n",
              "      <td>0.000115</td>\n",
              "      <td>0.010716</td>\n",
              "      <td>0.007357</td>\n",
              "      <td>0.995182</td>\n",
              "    </tr>\n",
              "    <tr>\n",
              "      <th>2</th>\n",
              "      <td>BaggingRegressor</td>\n",
              "      <td>0.000115</td>\n",
              "      <td>0.010729</td>\n",
              "      <td>0.007370</td>\n",
              "      <td>0.995170</td>\n",
              "    </tr>\n",
              "    <tr>\n",
              "      <th>3</th>\n",
              "      <td>RandomForestRegressor</td>\n",
              "      <td>0.050023</td>\n",
              "      <td>0.223659</td>\n",
              "      <td>0.170854</td>\n",
              "      <td>-1.098737</td>\n",
              "    </tr>\n",
              "    <tr>\n",
              "      <th>4</th>\n",
              "      <td>RidgeRegressor</td>\n",
              "      <td>0.000126</td>\n",
              "      <td>0.011224</td>\n",
              "      <td>0.007793</td>\n",
              "      <td>0.994715</td>\n",
              "    </tr>\n",
              "    <tr>\n",
              "      <th>5</th>\n",
              "      <td>LassoRegressor</td>\n",
              "      <td>0.203962</td>\n",
              "      <td>0.451622</td>\n",
              "      <td>0.424414</td>\n",
              "      <td>-7.557281</td>\n",
              "    </tr>\n",
              "    <tr>\n",
              "      <th>6</th>\n",
              "      <td>LSTM1</td>\n",
              "      <td>0.001335</td>\n",
              "      <td>0.036533</td>\n",
              "      <td>0.030270</td>\n",
              "      <td>0.944003</td>\n",
              "    </tr>\n",
              "    <tr>\n",
              "      <th>7</th>\n",
              "      <td>LSTM2</td>\n",
              "      <td>0.000221</td>\n",
              "      <td>0.014873</td>\n",
              "      <td>0.010655</td>\n",
              "      <td>0.990719</td>\n",
              "    </tr>\n",
              "    <tr>\n",
              "      <th>8</th>\n",
              "      <td>XGBoost_val</td>\n",
              "      <td>0.042508</td>\n",
              "      <td>0.206174</td>\n",
              "      <td>0.116090</td>\n",
              "      <td>0.471661</td>\n",
              "    </tr>\n",
              "    <tr>\n",
              "      <th>9</th>\n",
              "      <td>LinearRegression_val</td>\n",
              "      <td>0.000420</td>\n",
              "      <td>0.020482</td>\n",
              "      <td>0.013900</td>\n",
              "      <td>0.994786</td>\n",
              "    </tr>\n",
              "    <tr>\n",
              "      <th>10</th>\n",
              "      <td>BaggingRegressor_val</td>\n",
              "      <td>0.000420</td>\n",
              "      <td>0.020494</td>\n",
              "      <td>0.013927</td>\n",
              "      <td>0.994780</td>\n",
              "    </tr>\n",
              "    <tr>\n",
              "      <th>11</th>\n",
              "      <td>RandomForestRegressor_val</td>\n",
              "      <td>0.038159</td>\n",
              "      <td>0.195344</td>\n",
              "      <td>0.109838</td>\n",
              "      <td>0.525710</td>\n",
              "    </tr>\n",
              "    <tr>\n",
              "      <th>12</th>\n",
              "      <td>RidgeRegressor_val</td>\n",
              "      <td>0.000447</td>\n",
              "      <td>0.021139</td>\n",
              "      <td>0.014259</td>\n",
              "      <td>0.994446</td>\n",
              "    </tr>\n",
              "    <tr>\n",
              "      <th>13</th>\n",
              "      <td>LassoRegressor_val</td>\n",
              "      <td>0.126533</td>\n",
              "      <td>0.355714</td>\n",
              "      <td>0.264671</td>\n",
              "      <td>-0.572711</td>\n",
              "    </tr>\n",
              "    <tr>\n",
              "      <th>14</th>\n",
              "      <td>LSTM1_val</td>\n",
              "      <td>0.001906</td>\n",
              "      <td>0.043662</td>\n",
              "      <td>0.031864</td>\n",
              "      <td>0.976306</td>\n",
              "    </tr>\n",
              "    <tr>\n",
              "      <th>15</th>\n",
              "      <td>LSTM2_val</td>\n",
              "      <td>0.000718</td>\n",
              "      <td>0.026787</td>\n",
              "      <td>0.018747</td>\n",
              "      <td>0.991081</td>\n",
              "    </tr>\n",
              "  </tbody>\n",
              "</table>\n",
              "</div>\n",
              "      <button class=\"colab-df-convert\" onclick=\"convertToInteractive('df-eedb12c6-db57-4104-827a-5191a96a6d62')\"\n",
              "              title=\"Convert this dataframe to an interactive table.\"\n",
              "              style=\"display:none;\">\n",
              "        \n",
              "  <svg xmlns=\"http://www.w3.org/2000/svg\" height=\"24px\"viewBox=\"0 0 24 24\"\n",
              "       width=\"24px\">\n",
              "    <path d=\"M0 0h24v24H0V0z\" fill=\"none\"/>\n",
              "    <path d=\"M18.56 5.44l.94 2.06.94-2.06 2.06-.94-2.06-.94-.94-2.06-.94 2.06-2.06.94zm-11 1L8.5 8.5l.94-2.06 2.06-.94-2.06-.94L8.5 2.5l-.94 2.06-2.06.94zm10 10l.94 2.06.94-2.06 2.06-.94-2.06-.94-.94-2.06-.94 2.06-2.06.94z\"/><path d=\"M17.41 7.96l-1.37-1.37c-.4-.4-.92-.59-1.43-.59-.52 0-1.04.2-1.43.59L10.3 9.45l-7.72 7.72c-.78.78-.78 2.05 0 2.83L4 21.41c.39.39.9.59 1.41.59.51 0 1.02-.2 1.41-.59l7.78-7.78 2.81-2.81c.8-.78.8-2.07 0-2.86zM5.41 20L4 18.59l7.72-7.72 1.47 1.35L5.41 20z\"/>\n",
              "  </svg>\n",
              "      </button>\n",
              "      \n",
              "  <style>\n",
              "    .colab-df-container {\n",
              "      display:flex;\n",
              "      flex-wrap:wrap;\n",
              "      gap: 12px;\n",
              "    }\n",
              "\n",
              "    .colab-df-convert {\n",
              "      background-color: #E8F0FE;\n",
              "      border: none;\n",
              "      border-radius: 50%;\n",
              "      cursor: pointer;\n",
              "      display: none;\n",
              "      fill: #1967D2;\n",
              "      height: 32px;\n",
              "      padding: 0 0 0 0;\n",
              "      width: 32px;\n",
              "    }\n",
              "\n",
              "    .colab-df-convert:hover {\n",
              "      background-color: #E2EBFA;\n",
              "      box-shadow: 0px 1px 2px rgba(60, 64, 67, 0.3), 0px 1px 3px 1px rgba(60, 64, 67, 0.15);\n",
              "      fill: #174EA6;\n",
              "    }\n",
              "\n",
              "    [theme=dark] .colab-df-convert {\n",
              "      background-color: #3B4455;\n",
              "      fill: #D2E3FC;\n",
              "    }\n",
              "\n",
              "    [theme=dark] .colab-df-convert:hover {\n",
              "      background-color: #434B5C;\n",
              "      box-shadow: 0px 1px 3px 1px rgba(0, 0, 0, 0.15);\n",
              "      filter: drop-shadow(0px 1px 2px rgba(0, 0, 0, 0.3));\n",
              "      fill: #FFFFFF;\n",
              "    }\n",
              "  </style>\n",
              "\n",
              "      <script>\n",
              "        const buttonEl =\n",
              "          document.querySelector('#df-eedb12c6-db57-4104-827a-5191a96a6d62 button.colab-df-convert');\n",
              "        buttonEl.style.display =\n",
              "          google.colab.kernel.accessAllowed ? 'block' : 'none';\n",
              "\n",
              "        async function convertToInteractive(key) {\n",
              "          const element = document.querySelector('#df-eedb12c6-db57-4104-827a-5191a96a6d62');\n",
              "          const dataTable =\n",
              "            await google.colab.kernel.invokeFunction('convertToInteractive',\n",
              "                                                     [key], {});\n",
              "          if (!dataTable) return;\n",
              "\n",
              "          const docLinkHtml = 'Like what you see? Visit the ' +\n",
              "            '<a target=\"_blank\" href=https://colab.research.google.com/notebooks/data_table.ipynb>data table notebook</a>'\n",
              "            + ' to learn more about interactive tables.';\n",
              "          element.innerHTML = '';\n",
              "          dataTable['output_type'] = 'display_data';\n",
              "          await google.colab.output.renderOutput(dataTable, element);\n",
              "          const docLink = document.createElement('div');\n",
              "          docLink.innerHTML = docLinkHtml;\n",
              "          element.appendChild(docLink);\n",
              "        }\n",
              "      </script>\n",
              "    </div>\n",
              "  </div>\n",
              "  "
            ]
          },
          "metadata": {},
          "execution_count": 37
        }
      ]
    },
    {
      "cell_type": "markdown",
      "source": [
        "Regression models - \n",
        "1.   We have used four evaluation metrics i.e. MSE (Mean Squared error) ,RMSE (Root Mean Squared Error), MAE(Mean absolute error), R-2(R-Squared).\n",
        "\n",
        "2.   For the predictions to be more accurate, We expect a lower MSE,MAE,RMSE and Higher R2.\n",
        "\n",
        "3.  Both, Linear regression and Bagging Regressor seems to perform the best as they the minimum values for both MSE,RMSE,MAE and high R-squared\n",
        "\n",
        "4. Linear Regression and BaggingRegressor were the two best models from training. On the validation set too, the same holds true. Shows that the models is trained perfectly. We can tune both these models even more.\n",
        "\n",
        "5. We can also further finetune the LSTM model to achieve better results."
      ],
      "metadata": {
        "id": "if3_XBtRIaGD"
      }
    },
    {
      "cell_type": "code",
      "source": [],
      "metadata": {
        "id": "spytsepgWXcn"
      },
      "execution_count": null,
      "outputs": []
    },
    {
      "cell_type": "markdown",
      "source": [
        "# which other U.S. tech stock is MSFT most correlated to?"
      ],
      "metadata": {
        "id": "aRcMkKfEFcyG"
      }
    },
    {
      "cell_type": "code",
      "source": [
        "other_df = yf.download(['MSFT','GOOG','AMZN','AAPL'] ,start='2005-01-01',end='2020-12-31',group_by='ticker')\n",
        "other_df.head()"
      ],
      "metadata": {
        "colab": {
          "base_uri": "https://localhost:8080/",
          "height": 484
        },
        "id": "2rXGSvT-y3t5",
        "outputId": "94e831cb-0f9a-4cb2-85a7-7ae364222d62"
      },
      "execution_count": null,
      "outputs": [
        {
          "output_type": "stream",
          "name": "stdout",
          "text": [
            "[*********************100%***********************]  4 of 4 completed\n"
          ]
        },
        {
          "output_type": "execute_result",
          "data": {
            "text/plain": [
              "              AMZN                                                   GOOG  \\\n",
              "              Open    High     Low   Close Adj Close     Volume      Open   \n",
              "Date                                                                        \n",
              "2005-01-03  2.2475  2.2720  2.2105  2.2260    2.2260  208930000  4.916571   \n",
              "2005-01-04  2.1335  2.1630  2.0750  2.1070    2.1070  388370000  5.016198   \n",
              "2005-01-05  2.0785  2.1380  2.0780  2.0885    2.0885  167084000  4.818190   \n",
              "2005-01-06  2.0905  2.1125  2.0450  2.0525    2.0525  174018000  4.858788   \n",
              "2005-01-07  2.0690  2.1345  2.0580  2.1160    2.1160  196732000  4.748203   \n",
              "\n",
              "                                          ...       MSFT             \\\n",
              "                High       Low     Close  ...        Low      Close   \n",
              "Date                                      ...                         \n",
              "2005-01-03  5.071989  4.868253  5.048826  ...  26.650000  26.740000   \n",
              "2005-01-04  5.054305  4.818937  4.844342  ...  26.660000  26.840000   \n",
              "2005-01-05  4.904118  4.787804  4.819685  ...  26.760000  26.780001   \n",
              "2005-01-06  4.879212  4.675475  4.696148  ...  26.639999  26.750000   \n",
              "2005-01-07  4.838116  4.701876  4.828153  ...  26.620001  26.670000   \n",
              "\n",
              "                                      AAPL                                \\\n",
              "            Adj Close     Volume      Open      High       Low     Close   \n",
              "Date                                                                       \n",
              "2005-01-03  18.913971   65002900  1.156786  1.162679  1.117857  1.130179   \n",
              "2005-01-04  18.984703  109442100  1.139107  1.169107  1.124464  1.141786   \n",
              "2005-01-05  18.942265   72463500  1.151071  1.165179  1.143750  1.151786   \n",
              "2005-01-06  18.921055   76890500  1.154821  1.159107  1.130893  1.152679   \n",
              "2005-01-07  18.864456   68723300  1.160714  1.243393  1.156250  1.236607   \n",
              "\n",
              "                                  \n",
              "           Adj Close      Volume  \n",
              "Date                              \n",
              "2005-01-03  0.964983   691992000  \n",
              "2005-01-04  0.974893  1096810400  \n",
              "2005-01-05  0.983432   680433600  \n",
              "2005-01-06  0.984194   705555200  \n",
              "2005-01-07  1.055855  2227450400  \n",
              "\n",
              "[5 rows x 24 columns]"
            ],
            "text/html": [
              "\n",
              "  <div id=\"df-70d15f48-5348-4245-ba8a-84a8ea64ae53\">\n",
              "    <div class=\"colab-df-container\">\n",
              "      <div>\n",
              "<style scoped>\n",
              "    .dataframe tbody tr th:only-of-type {\n",
              "        vertical-align: middle;\n",
              "    }\n",
              "\n",
              "    .dataframe tbody tr th {\n",
              "        vertical-align: top;\n",
              "    }\n",
              "\n",
              "    .dataframe thead tr th {\n",
              "        text-align: left;\n",
              "    }\n",
              "\n",
              "    .dataframe thead tr:last-of-type th {\n",
              "        text-align: right;\n",
              "    }\n",
              "</style>\n",
              "<table border=\"1\" class=\"dataframe\">\n",
              "  <thead>\n",
              "    <tr>\n",
              "      <th></th>\n",
              "      <th colspan=\"6\" halign=\"left\">AMZN</th>\n",
              "      <th colspan=\"4\" halign=\"left\">GOOG</th>\n",
              "      <th>...</th>\n",
              "      <th colspan=\"4\" halign=\"left\">MSFT</th>\n",
              "      <th colspan=\"6\" halign=\"left\">AAPL</th>\n",
              "    </tr>\n",
              "    <tr>\n",
              "      <th></th>\n",
              "      <th>Open</th>\n",
              "      <th>High</th>\n",
              "      <th>Low</th>\n",
              "      <th>Close</th>\n",
              "      <th>Adj Close</th>\n",
              "      <th>Volume</th>\n",
              "      <th>Open</th>\n",
              "      <th>High</th>\n",
              "      <th>Low</th>\n",
              "      <th>Close</th>\n",
              "      <th>...</th>\n",
              "      <th>Low</th>\n",
              "      <th>Close</th>\n",
              "      <th>Adj Close</th>\n",
              "      <th>Volume</th>\n",
              "      <th>Open</th>\n",
              "      <th>High</th>\n",
              "      <th>Low</th>\n",
              "      <th>Close</th>\n",
              "      <th>Adj Close</th>\n",
              "      <th>Volume</th>\n",
              "    </tr>\n",
              "    <tr>\n",
              "      <th>Date</th>\n",
              "      <th></th>\n",
              "      <th></th>\n",
              "      <th></th>\n",
              "      <th></th>\n",
              "      <th></th>\n",
              "      <th></th>\n",
              "      <th></th>\n",
              "      <th></th>\n",
              "      <th></th>\n",
              "      <th></th>\n",
              "      <th></th>\n",
              "      <th></th>\n",
              "      <th></th>\n",
              "      <th></th>\n",
              "      <th></th>\n",
              "      <th></th>\n",
              "      <th></th>\n",
              "      <th></th>\n",
              "      <th></th>\n",
              "      <th></th>\n",
              "      <th></th>\n",
              "    </tr>\n",
              "  </thead>\n",
              "  <tbody>\n",
              "    <tr>\n",
              "      <th>2005-01-03</th>\n",
              "      <td>2.2475</td>\n",
              "      <td>2.2720</td>\n",
              "      <td>2.2105</td>\n",
              "      <td>2.2260</td>\n",
              "      <td>2.2260</td>\n",
              "      <td>208930000</td>\n",
              "      <td>4.916571</td>\n",
              "      <td>5.071989</td>\n",
              "      <td>4.868253</td>\n",
              "      <td>5.048826</td>\n",
              "      <td>...</td>\n",
              "      <td>26.650000</td>\n",
              "      <td>26.740000</td>\n",
              "      <td>18.913971</td>\n",
              "      <td>65002900</td>\n",
              "      <td>1.156786</td>\n",
              "      <td>1.162679</td>\n",
              "      <td>1.117857</td>\n",
              "      <td>1.130179</td>\n",
              "      <td>0.964983</td>\n",
              "      <td>691992000</td>\n",
              "    </tr>\n",
              "    <tr>\n",
              "      <th>2005-01-04</th>\n",
              "      <td>2.1335</td>\n",
              "      <td>2.1630</td>\n",
              "      <td>2.0750</td>\n",
              "      <td>2.1070</td>\n",
              "      <td>2.1070</td>\n",
              "      <td>388370000</td>\n",
              "      <td>5.016198</td>\n",
              "      <td>5.054305</td>\n",
              "      <td>4.818937</td>\n",
              "      <td>4.844342</td>\n",
              "      <td>...</td>\n",
              "      <td>26.660000</td>\n",
              "      <td>26.840000</td>\n",
              "      <td>18.984703</td>\n",
              "      <td>109442100</td>\n",
              "      <td>1.139107</td>\n",
              "      <td>1.169107</td>\n",
              "      <td>1.124464</td>\n",
              "      <td>1.141786</td>\n",
              "      <td>0.974893</td>\n",
              "      <td>1096810400</td>\n",
              "    </tr>\n",
              "    <tr>\n",
              "      <th>2005-01-05</th>\n",
              "      <td>2.0785</td>\n",
              "      <td>2.1380</td>\n",
              "      <td>2.0780</td>\n",
              "      <td>2.0885</td>\n",
              "      <td>2.0885</td>\n",
              "      <td>167084000</td>\n",
              "      <td>4.818190</td>\n",
              "      <td>4.904118</td>\n",
              "      <td>4.787804</td>\n",
              "      <td>4.819685</td>\n",
              "      <td>...</td>\n",
              "      <td>26.760000</td>\n",
              "      <td>26.780001</td>\n",
              "      <td>18.942265</td>\n",
              "      <td>72463500</td>\n",
              "      <td>1.151071</td>\n",
              "      <td>1.165179</td>\n",
              "      <td>1.143750</td>\n",
              "      <td>1.151786</td>\n",
              "      <td>0.983432</td>\n",
              "      <td>680433600</td>\n",
              "    </tr>\n",
              "    <tr>\n",
              "      <th>2005-01-06</th>\n",
              "      <td>2.0905</td>\n",
              "      <td>2.1125</td>\n",
              "      <td>2.0450</td>\n",
              "      <td>2.0525</td>\n",
              "      <td>2.0525</td>\n",
              "      <td>174018000</td>\n",
              "      <td>4.858788</td>\n",
              "      <td>4.879212</td>\n",
              "      <td>4.675475</td>\n",
              "      <td>4.696148</td>\n",
              "      <td>...</td>\n",
              "      <td>26.639999</td>\n",
              "      <td>26.750000</td>\n",
              "      <td>18.921055</td>\n",
              "      <td>76890500</td>\n",
              "      <td>1.154821</td>\n",
              "      <td>1.159107</td>\n",
              "      <td>1.130893</td>\n",
              "      <td>1.152679</td>\n",
              "      <td>0.984194</td>\n",
              "      <td>705555200</td>\n",
              "    </tr>\n",
              "    <tr>\n",
              "      <th>2005-01-07</th>\n",
              "      <td>2.0690</td>\n",
              "      <td>2.1345</td>\n",
              "      <td>2.0580</td>\n",
              "      <td>2.1160</td>\n",
              "      <td>2.1160</td>\n",
              "      <td>196732000</td>\n",
              "      <td>4.748203</td>\n",
              "      <td>4.838116</td>\n",
              "      <td>4.701876</td>\n",
              "      <td>4.828153</td>\n",
              "      <td>...</td>\n",
              "      <td>26.620001</td>\n",
              "      <td>26.670000</td>\n",
              "      <td>18.864456</td>\n",
              "      <td>68723300</td>\n",
              "      <td>1.160714</td>\n",
              "      <td>1.243393</td>\n",
              "      <td>1.156250</td>\n",
              "      <td>1.236607</td>\n",
              "      <td>1.055855</td>\n",
              "      <td>2227450400</td>\n",
              "    </tr>\n",
              "  </tbody>\n",
              "</table>\n",
              "<p>5 rows × 24 columns</p>\n",
              "</div>\n",
              "      <button class=\"colab-df-convert\" onclick=\"convertToInteractive('df-70d15f48-5348-4245-ba8a-84a8ea64ae53')\"\n",
              "              title=\"Convert this dataframe to an interactive table.\"\n",
              "              style=\"display:none;\">\n",
              "        \n",
              "  <svg xmlns=\"http://www.w3.org/2000/svg\" height=\"24px\"viewBox=\"0 0 24 24\"\n",
              "       width=\"24px\">\n",
              "    <path d=\"M0 0h24v24H0V0z\" fill=\"none\"/>\n",
              "    <path d=\"M18.56 5.44l.94 2.06.94-2.06 2.06-.94-2.06-.94-.94-2.06-.94 2.06-2.06.94zm-11 1L8.5 8.5l.94-2.06 2.06-.94-2.06-.94L8.5 2.5l-.94 2.06-2.06.94zm10 10l.94 2.06.94-2.06 2.06-.94-2.06-.94-.94-2.06-.94 2.06-2.06.94z\"/><path d=\"M17.41 7.96l-1.37-1.37c-.4-.4-.92-.59-1.43-.59-.52 0-1.04.2-1.43.59L10.3 9.45l-7.72 7.72c-.78.78-.78 2.05 0 2.83L4 21.41c.39.39.9.59 1.41.59.51 0 1.02-.2 1.41-.59l7.78-7.78 2.81-2.81c.8-.78.8-2.07 0-2.86zM5.41 20L4 18.59l7.72-7.72 1.47 1.35L5.41 20z\"/>\n",
              "  </svg>\n",
              "      </button>\n",
              "      \n",
              "  <style>\n",
              "    .colab-df-container {\n",
              "      display:flex;\n",
              "      flex-wrap:wrap;\n",
              "      gap: 12px;\n",
              "    }\n",
              "\n",
              "    .colab-df-convert {\n",
              "      background-color: #E8F0FE;\n",
              "      border: none;\n",
              "      border-radius: 50%;\n",
              "      cursor: pointer;\n",
              "      display: none;\n",
              "      fill: #1967D2;\n",
              "      height: 32px;\n",
              "      padding: 0 0 0 0;\n",
              "      width: 32px;\n",
              "    }\n",
              "\n",
              "    .colab-df-convert:hover {\n",
              "      background-color: #E2EBFA;\n",
              "      box-shadow: 0px 1px 2px rgba(60, 64, 67, 0.3), 0px 1px 3px 1px rgba(60, 64, 67, 0.15);\n",
              "      fill: #174EA6;\n",
              "    }\n",
              "\n",
              "    [theme=dark] .colab-df-convert {\n",
              "      background-color: #3B4455;\n",
              "      fill: #D2E3FC;\n",
              "    }\n",
              "\n",
              "    [theme=dark] .colab-df-convert:hover {\n",
              "      background-color: #434B5C;\n",
              "      box-shadow: 0px 1px 3px 1px rgba(0, 0, 0, 0.15);\n",
              "      filter: drop-shadow(0px 1px 2px rgba(0, 0, 0, 0.3));\n",
              "      fill: #FFFFFF;\n",
              "    }\n",
              "  </style>\n",
              "\n",
              "      <script>\n",
              "        const buttonEl =\n",
              "          document.querySelector('#df-70d15f48-5348-4245-ba8a-84a8ea64ae53 button.colab-df-convert');\n",
              "        buttonEl.style.display =\n",
              "          google.colab.kernel.accessAllowed ? 'block' : 'none';\n",
              "\n",
              "        async function convertToInteractive(key) {\n",
              "          const element = document.querySelector('#df-70d15f48-5348-4245-ba8a-84a8ea64ae53');\n",
              "          const dataTable =\n",
              "            await google.colab.kernel.invokeFunction('convertToInteractive',\n",
              "                                                     [key], {});\n",
              "          if (!dataTable) return;\n",
              "\n",
              "          const docLinkHtml = 'Like what you see? Visit the ' +\n",
              "            '<a target=\"_blank\" href=https://colab.research.google.com/notebooks/data_table.ipynb>data table notebook</a>'\n",
              "            + ' to learn more about interactive tables.';\n",
              "          element.innerHTML = '';\n",
              "          dataTable['output_type'] = 'display_data';\n",
              "          await google.colab.output.renderOutput(dataTable, element);\n",
              "          const docLink = document.createElement('div');\n",
              "          docLink.innerHTML = docLinkHtml;\n",
              "          element.appendChild(docLink);\n",
              "        }\n",
              "      </script>\n",
              "    </div>\n",
              "  </div>\n",
              "  "
            ]
          },
          "metadata": {},
          "execution_count": 38
        }
      ]
    },
    {
      "cell_type": "code",
      "source": [
        "other_df = other_df[[('AMZN','Open'),('GOOG','Open'),('AAPL','Open'),('MSFT','Open')]]\n",
        "other_df.columns = ['AMZN','GOOG','AAPL','MSFT']\n",
        "other_df.head()"
      ],
      "metadata": {
        "colab": {
          "base_uri": "https://localhost:8080/",
          "height": 237
        },
        "id": "w4aaUFvXFhkW",
        "outputId": "8dd2ca09-ab0f-4e31-e592-3f864d186650"
      },
      "execution_count": null,
      "outputs": [
        {
          "output_type": "execute_result",
          "data": {
            "text/plain": [
              "              AMZN      GOOG      AAPL       MSFT\n",
              "Date                                             \n",
              "2005-01-03  2.2475  4.916571  1.156786  26.799999\n",
              "2005-01-04  2.1335  5.016198  1.139107  26.870001\n",
              "2005-01-05  2.0785  4.818190  1.151071  26.840000\n",
              "2005-01-06  2.0905  4.858788  1.154821  26.850000\n",
              "2005-01-07  2.0690  4.748203  1.160714  26.820000"
            ],
            "text/html": [
              "\n",
              "  <div id=\"df-2c6a7a7b-1f63-42e5-b4dd-09852c877b2b\">\n",
              "    <div class=\"colab-df-container\">\n",
              "      <div>\n",
              "<style scoped>\n",
              "    .dataframe tbody tr th:only-of-type {\n",
              "        vertical-align: middle;\n",
              "    }\n",
              "\n",
              "    .dataframe tbody tr th {\n",
              "        vertical-align: top;\n",
              "    }\n",
              "\n",
              "    .dataframe thead th {\n",
              "        text-align: right;\n",
              "    }\n",
              "</style>\n",
              "<table border=\"1\" class=\"dataframe\">\n",
              "  <thead>\n",
              "    <tr style=\"text-align: right;\">\n",
              "      <th></th>\n",
              "      <th>AMZN</th>\n",
              "      <th>GOOG</th>\n",
              "      <th>AAPL</th>\n",
              "      <th>MSFT</th>\n",
              "    </tr>\n",
              "    <tr>\n",
              "      <th>Date</th>\n",
              "      <th></th>\n",
              "      <th></th>\n",
              "      <th></th>\n",
              "      <th></th>\n",
              "    </tr>\n",
              "  </thead>\n",
              "  <tbody>\n",
              "    <tr>\n",
              "      <th>2005-01-03</th>\n",
              "      <td>2.2475</td>\n",
              "      <td>4.916571</td>\n",
              "      <td>1.156786</td>\n",
              "      <td>26.799999</td>\n",
              "    </tr>\n",
              "    <tr>\n",
              "      <th>2005-01-04</th>\n",
              "      <td>2.1335</td>\n",
              "      <td>5.016198</td>\n",
              "      <td>1.139107</td>\n",
              "      <td>26.870001</td>\n",
              "    </tr>\n",
              "    <tr>\n",
              "      <th>2005-01-05</th>\n",
              "      <td>2.0785</td>\n",
              "      <td>4.818190</td>\n",
              "      <td>1.151071</td>\n",
              "      <td>26.840000</td>\n",
              "    </tr>\n",
              "    <tr>\n",
              "      <th>2005-01-06</th>\n",
              "      <td>2.0905</td>\n",
              "      <td>4.858788</td>\n",
              "      <td>1.154821</td>\n",
              "      <td>26.850000</td>\n",
              "    </tr>\n",
              "    <tr>\n",
              "      <th>2005-01-07</th>\n",
              "      <td>2.0690</td>\n",
              "      <td>4.748203</td>\n",
              "      <td>1.160714</td>\n",
              "      <td>26.820000</td>\n",
              "    </tr>\n",
              "  </tbody>\n",
              "</table>\n",
              "</div>\n",
              "      <button class=\"colab-df-convert\" onclick=\"convertToInteractive('df-2c6a7a7b-1f63-42e5-b4dd-09852c877b2b')\"\n",
              "              title=\"Convert this dataframe to an interactive table.\"\n",
              "              style=\"display:none;\">\n",
              "        \n",
              "  <svg xmlns=\"http://www.w3.org/2000/svg\" height=\"24px\"viewBox=\"0 0 24 24\"\n",
              "       width=\"24px\">\n",
              "    <path d=\"M0 0h24v24H0V0z\" fill=\"none\"/>\n",
              "    <path d=\"M18.56 5.44l.94 2.06.94-2.06 2.06-.94-2.06-.94-.94-2.06-.94 2.06-2.06.94zm-11 1L8.5 8.5l.94-2.06 2.06-.94-2.06-.94L8.5 2.5l-.94 2.06-2.06.94zm10 10l.94 2.06.94-2.06 2.06-.94-2.06-.94-.94-2.06-.94 2.06-2.06.94z\"/><path d=\"M17.41 7.96l-1.37-1.37c-.4-.4-.92-.59-1.43-.59-.52 0-1.04.2-1.43.59L10.3 9.45l-7.72 7.72c-.78.78-.78 2.05 0 2.83L4 21.41c.39.39.9.59 1.41.59.51 0 1.02-.2 1.41-.59l7.78-7.78 2.81-2.81c.8-.78.8-2.07 0-2.86zM5.41 20L4 18.59l7.72-7.72 1.47 1.35L5.41 20z\"/>\n",
              "  </svg>\n",
              "      </button>\n",
              "      \n",
              "  <style>\n",
              "    .colab-df-container {\n",
              "      display:flex;\n",
              "      flex-wrap:wrap;\n",
              "      gap: 12px;\n",
              "    }\n",
              "\n",
              "    .colab-df-convert {\n",
              "      background-color: #E8F0FE;\n",
              "      border: none;\n",
              "      border-radius: 50%;\n",
              "      cursor: pointer;\n",
              "      display: none;\n",
              "      fill: #1967D2;\n",
              "      height: 32px;\n",
              "      padding: 0 0 0 0;\n",
              "      width: 32px;\n",
              "    }\n",
              "\n",
              "    .colab-df-convert:hover {\n",
              "      background-color: #E2EBFA;\n",
              "      box-shadow: 0px 1px 2px rgba(60, 64, 67, 0.3), 0px 1px 3px 1px rgba(60, 64, 67, 0.15);\n",
              "      fill: #174EA6;\n",
              "    }\n",
              "\n",
              "    [theme=dark] .colab-df-convert {\n",
              "      background-color: #3B4455;\n",
              "      fill: #D2E3FC;\n",
              "    }\n",
              "\n",
              "    [theme=dark] .colab-df-convert:hover {\n",
              "      background-color: #434B5C;\n",
              "      box-shadow: 0px 1px 3px 1px rgba(0, 0, 0, 0.15);\n",
              "      filter: drop-shadow(0px 1px 2px rgba(0, 0, 0, 0.3));\n",
              "      fill: #FFFFFF;\n",
              "    }\n",
              "  </style>\n",
              "\n",
              "      <script>\n",
              "        const buttonEl =\n",
              "          document.querySelector('#df-2c6a7a7b-1f63-42e5-b4dd-09852c877b2b button.colab-df-convert');\n",
              "        buttonEl.style.display =\n",
              "          google.colab.kernel.accessAllowed ? 'block' : 'none';\n",
              "\n",
              "        async function convertToInteractive(key) {\n",
              "          const element = document.querySelector('#df-2c6a7a7b-1f63-42e5-b4dd-09852c877b2b');\n",
              "          const dataTable =\n",
              "            await google.colab.kernel.invokeFunction('convertToInteractive',\n",
              "                                                     [key], {});\n",
              "          if (!dataTable) return;\n",
              "\n",
              "          const docLinkHtml = 'Like what you see? Visit the ' +\n",
              "            '<a target=\"_blank\" href=https://colab.research.google.com/notebooks/data_table.ipynb>data table notebook</a>'\n",
              "            + ' to learn more about interactive tables.';\n",
              "          element.innerHTML = '';\n",
              "          dataTable['output_type'] = 'display_data';\n",
              "          await google.colab.output.renderOutput(dataTable, element);\n",
              "          const docLink = document.createElement('div');\n",
              "          docLink.innerHTML = docLinkHtml;\n",
              "          element.appendChild(docLink);\n",
              "        }\n",
              "      </script>\n",
              "    </div>\n",
              "  </div>\n",
              "  "
            ]
          },
          "metadata": {},
          "execution_count": 39
        }
      ]
    },
    {
      "cell_type": "code",
      "source": [
        "other_df.columns"
      ],
      "metadata": {
        "colab": {
          "base_uri": "https://localhost:8080/"
        },
        "id": "whXlVmqHFhm9",
        "outputId": "53a9fac2-1f6c-4abe-f7bf-63d5f8f9ddcd"
      },
      "execution_count": null,
      "outputs": [
        {
          "output_type": "execute_result",
          "data": {
            "text/plain": [
              "Index(['AMZN', 'GOOG', 'AAPL', 'MSFT'], dtype='object')"
            ]
          },
          "metadata": {},
          "execution_count": 40
        }
      ]
    },
    {
      "cell_type": "code",
      "source": [
        "plt.figure(figsize=(15, 4))\n",
        "#MSFT\n",
        "plt.subplot(1, 2, 2)\n",
        "plt.plot(other_df.index, other_df['MSFT'])\n",
        "plt.title('Daily Times Series for the MSFT');\n",
        "plt.figure(figsize=(15, 4))\n",
        "#GOOG\n",
        "plt.subplot(1, 2, 2)\n",
        "plt.plot(other_df.index, other_df['GOOG'])\n",
        "plt.title('Daily Times Series for the GOOG');\n",
        "plt.figure(figsize=(15, 4))\n",
        "#AMZN\n",
        "plt.subplot(1, 2, 1)\n",
        "plt.plot(other_df.index, other_df['AMZN'])\n",
        "plt.title('Daily Times Series for the AMZN')\n",
        "plt.figure(figsize=(15, 4))\n",
        "#AAPL\n",
        "plt.subplot(1, 2, 1)\n",
        "plt.plot(other_df.index, other_df['AAPL'])\n",
        "plt.title('Daily Times Series for the AAPL');\n"
      ],
      "metadata": {
        "colab": {
          "base_uri": "https://localhost:8080/",
          "height": 1000
        },
        "id": "0PhEV4-LFpe1",
        "outputId": "5edbf22e-705f-4c8b-8f31-1885f058736b"
      },
      "execution_count": null,
      "outputs": [
        {
          "output_type": "display_data",
          "data": {
            "text/plain": [
              "<Figure size 1080x288 with 1 Axes>"
            ],
            "image/png": "[encoded data removed]"
          },
          "metadata": {
            "needs_background": "light"
          }
        },
        {
          "output_type": "display_data",
          "data": {
            "text/plain": [
              "<Figure size 1080x288 with 1 Axes>"
            ],
            "image/png": "[encoded data removed]"
          },
          "metadata": {
            "needs_background": "light"
          }
        },
        {
          "output_type": "display_data",
          "data": {
            "text/plain": [
              "<Figure size 1080x288 with 1 Axes>"
            ],
            "image/png": "[encoded data removed]"
          },
          "metadata": {
            "needs_background": "light"
          }
        },
        {
          "output_type": "display_data",
          "data": {
            "text/plain": [
              "<Figure size 1080x288 with 1 Axes>"
            ],
            "image/png": "[encoded data removed]"
          },
          "metadata": {
            "needs_background": "light"
          }
        }
      ]
    },
    {
      "cell_type": "code",
      "source": [
        "corr_df = other_df.corr(method='pearson')\n",
        "corr_df.head().reset_index()"
      ],
      "metadata": {
        "colab": {
          "base_uri": "https://localhost:8080/",
          "height": 175
        },
        "id": "Zxmkfe9mFttD",
        "outputId": "53a3dc49-2388-4b8a-d857-bfdb41fd3271"
      },
      "execution_count": null,
      "outputs": [
        {
          "output_type": "execute_result",
          "data": {
            "text/plain": [
              "  index      AMZN      GOOG      AAPL      MSFT\n",
              "0  AMZN  1.000000  0.960456  0.962396  0.983188\n",
              "1  GOOG  0.960456  1.000000  0.942819  0.941771\n",
              "2  AAPL  0.962396  0.942819  1.000000  0.959586\n",
              "3  MSFT  0.983188  0.941771  0.959586  1.000000"
            ],
            "text/html": [
              "\n",
              "  <div id=\"df-20e19999-9ce3-4e30-bed5-cfa97084ea20\">\n",
              "    <div class=\"colab-df-container\">\n",
              "      <div>\n",
              "<style scoped>\n",
              "    .dataframe tbody tr th:only-of-type {\n",
              "        vertical-align: middle;\n",
              "    }\n",
              "\n",
              "    .dataframe tbody tr th {\n",
              "        vertical-align: top;\n",
              "    }\n",
              "\n",
              "    .dataframe thead th {\n",
              "        text-align: right;\n",
              "    }\n",
              "</style>\n",
              "<table border=\"1\" class=\"dataframe\">\n",
              "  <thead>\n",
              "    <tr style=\"text-align: right;\">\n",
              "      <th></th>\n",
              "      <th>index</th>\n",
              "      <th>AMZN</th>\n",
              "      <th>GOOG</th>\n",
              "      <th>AAPL</th>\n",
              "      <th>MSFT</th>\n",
              "    </tr>\n",
              "  </thead>\n",
              "  <tbody>\n",
              "    <tr>\n",
              "      <th>0</th>\n",
              "      <td>AMZN</td>\n",
              "      <td>1.000000</td>\n",
              "      <td>0.960456</td>\n",
              "      <td>0.962396</td>\n",
              "      <td>0.983188</td>\n",
              "    </tr>\n",
              "    <tr>\n",
              "      <th>1</th>\n",
              "      <td>GOOG</td>\n",
              "      <td>0.960456</td>\n",
              "      <td>1.000000</td>\n",
              "      <td>0.942819</td>\n",
              "      <td>0.941771</td>\n",
              "    </tr>\n",
              "    <tr>\n",
              "      <th>2</th>\n",
              "      <td>AAPL</td>\n",
              "      <td>0.962396</td>\n",
              "      <td>0.942819</td>\n",
              "      <td>1.000000</td>\n",
              "      <td>0.959586</td>\n",
              "    </tr>\n",
              "    <tr>\n",
              "      <th>3</th>\n",
              "      <td>MSFT</td>\n",
              "      <td>0.983188</td>\n",
              "      <td>0.941771</td>\n",
              "      <td>0.959586</td>\n",
              "      <td>1.000000</td>\n",
              "    </tr>\n",
              "  </tbody>\n",
              "</table>\n",
              "</div>\n",
              "      <button class=\"colab-df-convert\" onclick=\"convertToInteractive('df-20e19999-9ce3-4e30-bed5-cfa97084ea20')\"\n",
              "              title=\"Convert this dataframe to an interactive table.\"\n",
              "              style=\"display:none;\">\n",
              "        \n",
              "  <svg xmlns=\"http://www.w3.org/2000/svg\" height=\"24px\"viewBox=\"0 0 24 24\"\n",
              "       width=\"24px\">\n",
              "    <path d=\"M0 0h24v24H0V0z\" fill=\"none\"/>\n",
              "    <path d=\"M18.56 5.44l.94 2.06.94-2.06 2.06-.94-2.06-.94-.94-2.06-.94 2.06-2.06.94zm-11 1L8.5 8.5l.94-2.06 2.06-.94-2.06-.94L8.5 2.5l-.94 2.06-2.06.94zm10 10l.94 2.06.94-2.06 2.06-.94-2.06-.94-.94-2.06-.94 2.06-2.06.94z\"/><path d=\"M17.41 7.96l-1.37-1.37c-.4-.4-.92-.59-1.43-.59-.52 0-1.04.2-1.43.59L10.3 9.45l-7.72 7.72c-.78.78-.78 2.05 0 2.83L4 21.41c.39.39.9.59 1.41.59.51 0 1.02-.2 1.41-.59l7.78-7.78 2.81-2.81c.8-.78.8-2.07 0-2.86zM5.41 20L4 18.59l7.72-7.72 1.47 1.35L5.41 20z\"/>\n",
              "  </svg>\n",
              "      </button>\n",
              "      \n",
              "  <style>\n",
              "    .colab-df-container {\n",
              "      display:flex;\n",
              "      flex-wrap:wrap;\n",
              "      gap: 12px;\n",
              "    }\n",
              "\n",
              "    .colab-df-convert {\n",
              "      background-color: #E8F0FE;\n",
              "      border: none;\n",
              "      border-radius: 50%;\n",
              "      cursor: pointer;\n",
              "      display: none;\n",
              "      fill: #1967D2;\n",
              "      height: 32px;\n",
              "      padding: 0 0 0 0;\n",
              "      width: 32px;\n",
              "    }\n",
              "\n",
              "    .colab-df-convert:hover {\n",
              "      background-color: #E2EBFA;\n",
              "      box-shadow: 0px 1px 2px rgba(60, 64, 67, 0.3), 0px 1px 3px 1px rgba(60, 64, 67, 0.15);\n",
              "      fill: #174EA6;\n",
              "    }\n",
              "\n",
              "    [theme=dark] .colab-df-convert {\n",
              "      background-color: #3B4455;\n",
              "      fill: #D2E3FC;\n",
              "    }\n",
              "\n",
              "    [theme=dark] .colab-df-convert:hover {\n",
              "      background-color: #434B5C;\n",
              "      box-shadow: 0px 1px 3px 1px rgba(0, 0, 0, 0.15);\n",
              "      filter: drop-shadow(0px 1px 2px rgba(0, 0, 0, 0.3));\n",
              "      fill: #FFFFFF;\n",
              "    }\n",
              "  </style>\n",
              "\n",
              "      <script>\n",
              "        const buttonEl =\n",
              "          document.querySelector('#df-20e19999-9ce3-4e30-bed5-cfa97084ea20 button.colab-df-convert');\n",
              "        buttonEl.style.display =\n",
              "          google.colab.kernel.accessAllowed ? 'block' : 'none';\n",
              "\n",
              "        async function convertToInteractive(key) {\n",
              "          const element = document.querySelector('#df-20e19999-9ce3-4e30-bed5-cfa97084ea20');\n",
              "          const dataTable =\n",
              "            await google.colab.kernel.invokeFunction('convertToInteractive',\n",
              "                                                     [key], {});\n",
              "          if (!dataTable) return;\n",
              "\n",
              "          const docLinkHtml = 'Like what you see? Visit the ' +\n",
              "            '<a target=\"_blank\" href=https://colab.research.google.com/notebooks/data_table.ipynb>data table notebook</a>'\n",
              "            + ' to learn more about interactive tables.';\n",
              "          element.innerHTML = '';\n",
              "          dataTable['output_type'] = 'display_data';\n",
              "          await google.colab.output.renderOutput(dataTable, element);\n",
              "          const docLink = document.createElement('div');\n",
              "          docLink.innerHTML = docLinkHtml;\n",
              "          element.appendChild(docLink);\n",
              "        }\n",
              "      </script>\n",
              "    </div>\n",
              "  </div>\n",
              "  "
            ]
          },
          "metadata": {},
          "execution_count": 42
        }
      ]
    },
    {
      "cell_type": "markdown",
      "source": [
        "Thus,MSFT is most corelated to AMZN from the pearson's coefficient"
      ],
      "metadata": {
        "id": "ufsHFlSsHxla"
      }
    },
    {
      "cell_type": "code",
      "source": [],
      "metadata": {
        "id": "_Qp_V7FsQepf"
      },
      "execution_count": null,
      "outputs": []
    }
  ]
}